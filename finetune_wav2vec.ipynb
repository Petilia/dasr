{
 "cells": [
  {
   "cell_type": "code",
   "execution_count": null,
   "metadata": {},
   "outputs": [],
   "source": [
    "import re\n",
    "\n",
    "import torch\n",
    "import torch.nn.functional as F\n",
    "from evaluate import load\n",
    "from torchmetrics.text import CharErrorRate, WordErrorRate\n",
    "from transformers import Wav2Vec2ForCTC, Wav2Vec2Processor"
   ]
  }
 ],
 "metadata": {
  "language_info": {
   "name": "python"
  },
  "orig_nbformat": 4
 },
 "nbformat": 4,
 "nbformat_minor": 2
}
