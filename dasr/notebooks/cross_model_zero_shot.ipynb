{
 "cells": [
  {
   "cell_type": "code",
   "execution_count": 1,
   "metadata": {},
   "outputs": [],
   "source": [
    "%load_ext autoreload\n",
    "%autoreload 2"
   ]
  },
  {
   "cell_type": "code",
   "execution_count": 2,
   "metadata": {},
   "outputs": [],
   "source": [
    "import torch\n",
    "import pandas as pd\n",
    "from tqdm import tqdm\n",
    "from dasr.asr import Wav2VecEnv\n",
    "from dasr.datasets import get_common_voice\n",
    "from dasr.datasets import RandomNoiseSNR\n",
    "\n",
    "from dasr.train.pl_model import DASRModel\n",
    "from dasr.train.pl_tune_w2v import ASRModel\n",
    "from dasr.datasets.make_dataloaders import CollateWithPadd\n",
    "from torch.utils.data import DataLoader\n",
    "import pytorch_lightning as pl\n",
    "import os\n",
    "import re\n",
    "import math"
   ]
  },
  {
   "cell_type": "code",
   "execution_count": 3,
   "metadata": {},
   "outputs": [],
   "source": [
    "import os\n",
    "os.environ[\"CUDA_VISIBLE_DEVICES\"] = \"2, 3\""
   ]
  },
  {
   "cell_type": "code",
   "execution_count": 4,
   "metadata": {},
   "outputs": [],
   "source": [
    "from torchmetrics.text import CharErrorRate, WordErrorRate\n",
    "\n",
    "def normalize_text(text: str):\n",
    "    if isinstance(text, float) and math.isnan(text): # if an input text is empty, then we return an empty text too\n",
    "        return ''\n",
    "    \n",
    "    for char in [\".\", \",\", \"!\", \"?\", \"(\", \")\"]:\n",
    "        text = text.replace(char, \" \")\n",
    "    text = text.replace(\"ё\", \"е\")\n",
    "    text = re.sub(\" +\", \" \", text)\n",
    "    text = re.sub(r\"[^\\w\\s]\", \"\", text)\n",
    "    text = text.lower().strip()\n",
    "    return text\n",
    "\n",
    "def normalize_df(df, column_names = [\"transcription\", \"gt\"]):\n",
    "    for colname in column_names:\n",
    "        df[colname] = df[colname].apply(normalize_text) \n",
    "        \n",
    "    return df\n",
    "\n",
    "def calculate_error_rates(target, preds):\n",
    "    wer = WordErrorRate()\n",
    "    cer = CharErrorRate()\n",
    "    \n",
    "    return wer(target=target, preds=preds).item(), cer(target=target, preds=preds).item()\n",
    "\n",
    "def get_common_voice_datasets(train_split=\"train[0:20000]\",\n",
    "                              test_split=\"test[0:5000]\",\n",
    "                              desire_snr_range_db=[10, 10],\n",
    "                              language=\"en\"):\n",
    "    \n",
    "    common_voice = get_common_voice(train_split=train_split,\n",
    "                                    test_split=test_split,\n",
    "                                    language=language)\n",
    "    \n",
    "    # train_dataset = RandomNoiseSNR(common_voice[\"train\"], desire_snr_range_db=desire_snr_range_db)\n",
    "    test_dataset = RandomNoiseSNR(common_voice[\"test\"], desire_snr_range_db=desire_snr_range_db)\n",
    "    \n",
    "    return test_dataset"
   ]
  },
  {
   "cell_type": "code",
   "execution_count": 5,
   "metadata": {},
   "outputs": [],
   "source": [
    "collate_fn = CollateWithPadd().collate_fn"
   ]
  },
  {
   "cell_type": "markdown",
   "metadata": {},
   "source": [
    "# Zero-Shot русского денойзера для английского wav2vec"
   ]
  },
  {
   "cell_type": "code",
   "execution_count": 6,
   "metadata": {},
   "outputs": [
    {
     "name": "stderr",
     "output_type": "stream",
     "text": [
      "/usr/local/lib/python3.10/dist-packages/huggingface_hub/file_download.py:1132: FutureWarning: `resume_download` is deprecated and will be removed in version 1.0.0. Downloads always resume when possible. If you want to force a new download, use `force_download=True`.\n",
      "  warnings.warn(\n",
      "/usr/local/lib/python3.10/dist-packages/transformers/models/wav2vec2/modeling_wav2vec2.py:1635: FutureWarning: The method `freeze_feature_extractor` is deprecated and will be removed in Transformers v5.Please use the equivalent `freeze_feature_encoder` method instead.\n",
      "  warnings.warn(\n"
     ]
    }
   ],
   "source": [
    "# RU Лучший денойзер (размороженный полносью)\n",
    "path_best_ru = \"./../../checkpoints/[only ctc] wav2vec+pretrained_dns64 [lr=1e-4] (unfreeze), SNR=10, train[0:20000]/epoch=22.ckpt\"\n",
    "\n",
    "# RU Лучший денойзер с замороженным энкодером\n",
    "# path_best_ru = \"/home/docker_current/dasr/checkpoints/[only ctc] wav2vec+pretrained_dns64 [lr=1e-4] (freeze encoder), SNR=10, train[0:20000] second run/epoch=64.ckpt\"\n",
    "\n",
    "model_ru = DASRModel.load_from_checkpoint(path_best_ru)\n",
    "\n",
    "# EN Лучший денойзер \n",
    "path_best_en = \"/home/docker_current/dasr/checkpoints/EN [ctc] wav2vec2+pretrained_dns64 [lr=1e-4] (unfreeze), SNR in [10, 10], train[0:20000]/epoch=31.ckpt\"\n",
    "model_en = DASRModel.load_from_checkpoint(path_best_en)"
   ]
  },
  {
   "cell_type": "code",
   "execution_count": 7,
   "metadata": {},
   "outputs": [],
   "source": [
    "# Меняем денойзер английской модели на дейнозер от русской модели\n",
    "model_en.model = model_ru.model"
   ]
  },
  {
   "cell_type": "code",
   "execution_count": 8,
   "metadata": {},
   "outputs": [
    {
     "name": "stderr",
     "output_type": "stream",
     "text": [
      "/usr/local/lib/python3.10/dist-packages/datasets/load.py:1486: FutureWarning: The repository for mozilla-foundation/common_voice_11_0 contains custom code which must be executed to correctly load the dataset. You can inspect the repository content at https://hf.co/datasets/mozilla-foundation/common_voice_11_0\n",
      "You can avoid this message in future by passing the argument `trust_remote_code=True`.\n",
      "Passing `trust_remote_code=True` will be mandatory to load this dataset from the next major release of `datasets`.\n",
      "  warnings.warn(\n",
      "/usr/local/lib/python3.10/dist-packages/datasets/load.py:1486: FutureWarning: The repository for mozilla-foundation/common_voice_11_0 contains custom code which must be executed to correctly load the dataset. You can inspect the repository content at https://hf.co/datasets/mozilla-foundation/common_voice_11_0\n",
      "You can avoid this message in future by passing the argument `trust_remote_code=True`.\n",
      "Passing `trust_remote_code=True` will be mandatory to load this dataset from the next major release of `datasets`.\n",
      "  warnings.warn(\n"
     ]
    }
   ],
   "source": [
    "train_split = \"train[0:10]\"\n",
    "test_split = \"test[0:5000]\"\n",
    "\n",
    "test_dataset = get_common_voice_datasets(train_split=train_split,\n",
    "                                         test_split=test_split, \n",
    "                                         language=\"en\")\n",
    "\n",
    "test_loader = DataLoader(\n",
    "            test_dataset,\n",
    "            batch_size=16,\n",
    "            collate_fn=collate_fn,\n",
    "            shuffle=False,\n",
    "            num_workers=5,\n",
    "        )"
   ]
  },
  {
   "cell_type": "code",
   "execution_count": 9,
   "metadata": {},
   "outputs": [
    {
     "name": "stderr",
     "output_type": "stream",
     "text": [
      "Trainer will use only 1 of 2 GPUs because it is running inside an interactive / notebook environment. You may try to set `Trainer(devices=2)` but please note that multi-GPU inside interactive / notebook environments is considered experimental and unstable. Your mileage may vary.\n",
      "GPU available: True (cuda), used: True\n",
      "TPU available: False, using: 0 TPU cores\n",
      "IPU available: False, using: 0 IPUs\n",
      "HPU available: False, using: 0 HPUs\n",
      "/usr/local/lib/python3.10/dist-packages/pytorch_lightning/trainer/connectors/logger_connector/logger_connector.py:67: Starting from v1.9.0, `tensorboardX` has been removed as a dependency of the `pytorch_lightning` package, due to potential conflicts with other packages in the ML ecosystem. For this reason, `logger=True` will use `CSVLogger` as the default logger, unless the `tensorboard` or `tensorboardX` packages are found. Please `pip install lightning[extra]` or one of them to enable TensorBoard support by default\n",
      "You are using a CUDA device ('NVIDIA A100 80GB PCIe') that has Tensor Cores. To properly utilize them, you should set `torch.set_float32_matmul_precision('medium' | 'high')` which will trade-off precision for performance. For more details, read https://pytorch.org/docs/stable/generated/torch.set_float32_matmul_precision.html#torch.set_float32_matmul_precision\n",
      "LOCAL_RANK: 0 - CUDA_VISIBLE_DEVICES: [2, 3]\n"
     ]
    },
    {
     "data": {
      "application/vnd.jupyter.widget-view+json": {
       "model_id": "e4531fbd0a7e4e669bd3aa7bd2477f57",
       "version_major": 2,
       "version_minor": 0
      },
      "text/plain": [
       "Predicting: |          | 0/? [00:00<?, ?it/s]"
      ]
     },
     "metadata": {},
     "output_type": "display_data"
    }
   ],
   "source": [
    "trainer = pl.Trainer(\n",
    "    accelerator=\"cuda\",\n",
    ")\n",
    "\n",
    "outputs = trainer.predict(model_en, test_loader)"
   ]
  },
  {
   "cell_type": "code",
   "execution_count": 10,
   "metadata": {},
   "outputs": [],
   "source": [
    "transcripts = []\n",
    "for i in outputs:\n",
    "    asr_output = i[0]\n",
    "    pred_ids = torch.argmax(asr_output.logits, dim=-1)\n",
    "    denoisy_transcript = model_en.asr.processor.batch_decode(pred_ids)\n",
    "    transcripts.extend(denoisy_transcript)\n",
    "    \n",
    "gts = test_dataset.transcriptions"
   ]
  },
  {
   "cell_type": "code",
   "execution_count": 11,
   "metadata": {},
   "outputs": [
    {
     "data": {
      "text/html": [
       "<div>\n",
       "<style scoped>\n",
       "    .dataframe tbody tr th:only-of-type {\n",
       "        vertical-align: middle;\n",
       "    }\n",
       "\n",
       "    .dataframe tbody tr th {\n",
       "        vertical-align: top;\n",
       "    }\n",
       "\n",
       "    .dataframe thead th {\n",
       "        text-align: right;\n",
       "    }\n",
       "</style>\n",
       "<table border=\"1\" class=\"dataframe\">\n",
       "  <thead>\n",
       "    <tr style=\"text-align: right;\">\n",
       "      <th></th>\n",
       "      <th>transcription</th>\n",
       "      <th>gt</th>\n",
       "    </tr>\n",
       "  </thead>\n",
       "  <tbody>\n",
       "    <tr>\n",
       "      <th>0</th>\n",
       "      <td>toughkeeplen disapproved of films and buster a...</td>\n",
       "      <td>Joe Keaton disapproved of films, and Buster al...</td>\n",
       "    </tr>\n",
       "    <tr>\n",
       "      <th>1</th>\n",
       "      <td>shed be all right</td>\n",
       "      <td>She'll be all right.</td>\n",
       "    </tr>\n",
       "  </tbody>\n",
       "</table>\n",
       "</div>"
      ],
      "text/plain": [
       "                                       transcription  \\\n",
       "0  toughkeeplen disapproved of films and buster a...   \n",
       "1                                  shed be all right   \n",
       "\n",
       "                                                  gt  \n",
       "0  Joe Keaton disapproved of films, and Buster al...  \n",
       "1                               She'll be all right.  "
      ]
     },
     "execution_count": 11,
     "metadata": {},
     "output_type": "execute_result"
    }
   ],
   "source": [
    "df = pd.DataFrame({\"transcription\": transcripts, \"gt\": gts})\n",
    "df.head(2)"
   ]
  },
  {
   "cell_type": "code",
   "execution_count": 12,
   "metadata": {},
   "outputs": [
    {
     "data": {
      "text/plain": [
       "(0.3625791370868683, 0.18204881250858307)"
      ]
     },
     "execution_count": 12,
     "metadata": {},
     "output_type": "execute_result"
    }
   ],
   "source": [
    "df = normalize_df(df)\n",
    "calculate_error_rates(df[\"gt\"], df[\"transcription\"])"
   ]
  },
  {
   "attachments": {
    "image.png": {
     "image/png": "[encoded data removed]"
    }
   },
   "cell_type": "markdown",
   "metadata": {},
   "source": [
    "![image.png](attachment:image.png)"
   ]
  },
  {
   "cell_type": "markdown",
   "metadata": {},
   "source": [
    "# Zero-Shot английского денойзера для русского wav2vec"
   ]
  },
  {
   "cell_type": "code",
   "execution_count": 6,
   "metadata": {},
   "outputs": [
    {
     "name": "stderr",
     "output_type": "stream",
     "text": [
      "/usr/local/lib/python3.10/dist-packages/huggingface_hub/file_download.py:1132: FutureWarning: `resume_download` is deprecated and will be removed in version 1.0.0. Downloads always resume when possible. If you want to force a new download, use `force_download=True`.\n",
      "  warnings.warn(\n",
      "/usr/local/lib/python3.10/dist-packages/transformers/models/wav2vec2/modeling_wav2vec2.py:1635: FutureWarning: The method `freeze_feature_extractor` is deprecated and will be removed in Transformers v5.Please use the equivalent `freeze_feature_encoder` method instead.\n",
      "  warnings.warn(\n"
     ]
    },
    {
     "name": "stdout",
     "output_type": "stream",
     "text": [
      "Freezing encoder\n"
     ]
    }
   ],
   "source": [
    "# RU Лучший денойзер \n",
    "path_best_ru = \"/home/docker_current/dasr/checkpoints/[only ctc] wav2vec+pretrained_dns64 [lr=1e-4] (freeze encoder), SNR=10, train[0:20000] second run/epoch=64.ckpt\"\n",
    "model_ru = DASRModel.load_from_checkpoint(path_best_ru)\n",
    "\n",
    "# EN Лучший денойзер (размороженный полносью)\n",
    "path_best_en = \"/home/docker_current/dasr/checkpoints/EN [ctc] wav2vec2+pretrained_dns64 [lr=1e-4] (unfreeze), SNR in [10, 10], train[0:20000]/epoch=31.ckpt\"\n",
    "# EN Лучший денойзер с замороженным энкодером\n",
    "# path_best_en = \"/home/docker_current/dasr/checkpoints/EN [ctc] wav2vec2+pretrained_dns64 [lr=1e-4] (freeze encoder), SNR in [10, 10], train[0:20000]/epoch=47.ckpt\"\n",
    "\n",
    "model_en = DASRModel.load_from_checkpoint(path_best_en)"
   ]
  },
  {
   "cell_type": "code",
   "execution_count": 7,
   "metadata": {},
   "outputs": [],
   "source": [
    "# Меняем денойзер русской модели на дейнозер от английской модели\n",
    "model_ru.model = model_en.model"
   ]
  },
  {
   "cell_type": "code",
   "execution_count": 14,
   "metadata": {},
   "outputs": [
    {
     "name": "stderr",
     "output_type": "stream",
     "text": [
      "/usr/local/lib/python3.10/dist-packages/datasets/load.py:1486: FutureWarning: The repository for mozilla-foundation/common_voice_11_0 contains custom code which must be executed to correctly load the dataset. You can inspect the repository content at https://hf.co/datasets/mozilla-foundation/common_voice_11_0\n",
      "You can avoid this message in future by passing the argument `trust_remote_code=True`.\n",
      "Passing `trust_remote_code=True` will be mandatory to load this dataset from the next major release of `datasets`.\n",
      "  warnings.warn(\n"
     ]
    }
   ],
   "source": [
    "train_split = \"train[0:10]\"\n",
    "test_split = \"test\"\n",
    "\n",
    "test_dataset = get_common_voice_datasets(train_split=train_split,\n",
    "                                         test_split=test_split, \n",
    "                                         language=\"ru\")\n",
    "\n",
    "test_loader = DataLoader(\n",
    "            test_dataset,\n",
    "            batch_size=16,\n",
    "            collate_fn=collate_fn,\n",
    "            shuffle=False,\n",
    "            num_workers=5,\n",
    "        )"
   ]
  },
  {
   "cell_type": "code",
   "execution_count": 15,
   "metadata": {},
   "outputs": [
    {
     "name": "stderr",
     "output_type": "stream",
     "text": [
      "Trainer will use only 1 of 2 GPUs because it is running inside an interactive / notebook environment. You may try to set `Trainer(devices=2)` but please note that multi-GPU inside interactive / notebook environments is considered experimental and unstable. Your mileage may vary.\n",
      "GPU available: True (cuda), used: True\n",
      "TPU available: False, using: 0 TPU cores\n",
      "IPU available: False, using: 0 IPUs\n",
      "HPU available: False, using: 0 HPUs\n",
      "LOCAL_RANK: 0 - CUDA_VISIBLE_DEVICES: [2, 3]\n"
     ]
    },
    {
     "data": {
      "application/vnd.jupyter.widget-view+json": {
       "model_id": "1374f6ac00f14ab0abfe147b143856ea",
       "version_major": 2,
       "version_minor": 0
      },
      "text/plain": [
       "Predicting: |          | 0/? [00:00<?, ?it/s]"
      ]
     },
     "metadata": {},
     "output_type": "display_data"
    }
   ],
   "source": [
    "trainer = pl.Trainer(\n",
    "    accelerator=\"cuda\",\n",
    ")\n",
    "\n",
    "outputs = trainer.predict(model_ru, test_loader)"
   ]
  },
  {
   "cell_type": "code",
   "execution_count": 16,
   "metadata": {},
   "outputs": [],
   "source": [
    "transcripts = []\n",
    "for i in outputs:\n",
    "    asr_output = i[0]\n",
    "    pred_ids = torch.argmax(asr_output.logits, dim=-1)\n",
    "    denoisy_transcript = model_ru.asr.processor.batch_decode(pred_ids)\n",
    "    transcripts.extend(denoisy_transcript)\n",
    "    \n",
    "gts = test_dataset.transcriptions"
   ]
  },
  {
   "cell_type": "code",
   "execution_count": 17,
   "metadata": {},
   "outputs": [
    {
     "data": {
      "text/html": [
       "<div>\n",
       "<style scoped>\n",
       "    .dataframe tbody tr th:only-of-type {\n",
       "        vertical-align: middle;\n",
       "    }\n",
       "\n",
       "    .dataframe tbody tr th {\n",
       "        vertical-align: top;\n",
       "    }\n",
       "\n",
       "    .dataframe thead th {\n",
       "        text-align: right;\n",
       "    }\n",
       "</style>\n",
       "<table border=\"1\" class=\"dataframe\">\n",
       "  <thead>\n",
       "    <tr style=\"text-align: right;\">\n",
       "      <th></th>\n",
       "      <th>transcription</th>\n",
       "      <th>gt</th>\n",
       "    </tr>\n",
       "  </thead>\n",
       "  <tbody>\n",
       "    <tr>\n",
       "      <th>0</th>\n",
       "      <td>сожаление эти предложений неносли отражения в ...</td>\n",
       "      <td>К сожалению, эти предложения не нашли отражени...</td>\n",
       "    </tr>\n",
       "    <tr>\n",
       "      <th>1</th>\n",
       "      <td>если не будет возражений я буду считать что ас...</td>\n",
       "      <td>Если не будет возражений, я буду считать, что ...</td>\n",
       "    </tr>\n",
       "    <tr>\n",
       "      <th>2</th>\n",
       "      <td>новашафкин  милый город</td>\n",
       "      <td>Новошахтинск — милый город</td>\n",
       "    </tr>\n",
       "    <tr>\n",
       "      <th>3</th>\n",
       "      <td>ну особенно раду отнуть что числы  шисят в соа...</td>\n",
       "      <td>Мы особенно рады отметить, что число скрывающи...</td>\n",
       "    </tr>\n",
       "    <tr>\n",
       "      <th>4</th>\n",
       "      <td>контролер</td>\n",
       "      <td>Контроллер</td>\n",
       "    </tr>\n",
       "  </tbody>\n",
       "</table>\n",
       "</div>"
      ],
      "text/plain": [
       "                                       transcription  \\\n",
       "0  сожаление эти предложений неносли отражения в ...   \n",
       "1  если не будет возражений я буду считать что ас...   \n",
       "2                            новашафкин  милый город   \n",
       "3  ну особенно раду отнуть что числы  шисят в соа...   \n",
       "4                                          контролер   \n",
       "\n",
       "                                                  gt  \n",
       "0  К сожалению, эти предложения не нашли отражени...  \n",
       "1  Если не будет возражений, я буду считать, что ...  \n",
       "2                         Новошахтинск — милый город  \n",
       "3  Мы особенно рады отметить, что число скрывающи...  \n",
       "4                                         Контроллер  "
      ]
     },
     "execution_count": 17,
     "metadata": {},
     "output_type": "execute_result"
    }
   ],
   "source": [
    "df = pd.DataFrame({\"transcription\": transcripts, \"gt\": gts})\n",
    "df.head(5)"
   ]
  },
  {
   "cell_type": "code",
   "execution_count": 18,
   "metadata": {},
   "outputs": [
    {
     "data": {
      "text/plain": [
       "(0.32411324977874756, 0.10510701686143875)"
      ]
     },
     "execution_count": 18,
     "metadata": {},
     "output_type": "execute_result"
    }
   ],
   "source": [
    "df = normalize_df(df)\n",
    "calculate_error_rates(df[\"gt\"], df[\"transcription\"])"
   ]
  },
  {
   "cell_type": "code",
   "execution_count": null,
   "metadata": {},
   "outputs": [],
   "source": []
  }
 ],
 "metadata": {
  "kernelspec": {
   "display_name": "Python 3",
   "language": "python",
   "name": "python3"
  },
  "language_info": {
   "codemirror_mode": {
    "name": "ipython",
    "version": 3
   },
   "file_extension": ".py",
   "mimetype": "text/x-python",
   "name": "python",
   "nbconvert_exporter": "python",
   "pygments_lexer": "ipython3",
   "version": "3.10.12"
  }
 },
 "nbformat": 4,
 "nbformat_minor": 2
}
