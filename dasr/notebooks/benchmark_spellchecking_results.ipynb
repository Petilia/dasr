{
 "cells": [
  {
   "cell_type": "code",
   "execution_count": 12,
   "metadata": {},
   "outputs": [],
   "source": [
    "import re\n",
    "import math\n",
    "import pandas as pd\n",
    "from torchmetrics.text import CharErrorRate, WordErrorRate"
   ]
  },
  {
   "cell_type": "code",
   "execution_count": 28,
   "metadata": {},
   "outputs": [],
   "source": [
    "def normalize_text(text: str):\n",
    "    if isinstance(text, float) and math.isnan(text): # if an input text is empty, then we return an empty text too\n",
    "        return ''\n",
    "    \n",
    "    for char in [\".\", \",\", \"!\", \"?\", \"(\", \")\"]:\n",
    "        text = text.replace(char, \" \")\n",
    "    text = text.replace(\"ё\", \"е\")\n",
    "    text = re.sub(\" +\", \" \", text)\n",
    "    text = re.sub(r\"[^\\w\\s]\", \"\", text)\n",
    "    text = text.lower().strip()\n",
    "    return text\n",
    "\n",
    "def normalize_df(df, column_names = [\"transcription\", \"gt\", \"rescored_transcription\"]):\n",
    "    for colname in column_names:\n",
    "        df[colname] = df[colname].apply(normalize_text) \n",
    "        \n",
    "    return df\n",
    "\n",
    "\n",
    "def calculate_error_rates(target, preds):\n",
    "    wer = WordErrorRate()\n",
    "    cer = CharErrorRate()\n",
    "    \n",
    "    return wer(target=target, preds=preds).item(), cer(target=target, preds=preds).item()"
   ]
  },
  {
   "cell_type": "code",
   "execution_count": 10,
   "metadata": {},
   "outputs": [],
   "source": [
    "train_df = pd.read_csv(\"train_df_rescored.csv\")\n",
    "test_df = pd.read_csv(\"test_df_rescored.csv\")\n",
    "\n",
    "train_df = normalize_df(train_df)\n",
    "test_df = normalize_df(test_df)"
   ]
  },
  {
   "cell_type": "code",
   "execution_count": 13,
   "metadata": {},
   "outputs": [
    {
     "data": {
      "text/html": [
       "<div>\n",
       "<style scoped>\n",
       "    .dataframe tbody tr th:only-of-type {\n",
       "        vertical-align: middle;\n",
       "    }\n",
       "\n",
       "    .dataframe tbody tr th {\n",
       "        vertical-align: top;\n",
       "    }\n",
       "\n",
       "    .dataframe thead th {\n",
       "        text-align: right;\n",
       "    }\n",
       "</style>\n",
       "<table border=\"1\" class=\"dataframe\">\n",
       "  <thead>\n",
       "    <tr style=\"text-align: right;\">\n",
       "      <th></th>\n",
       "      <th>transcription</th>\n",
       "      <th>gt</th>\n",
       "      <th>rescored_transcription</th>\n",
       "    </tr>\n",
       "  </thead>\n",
       "  <tbody>\n",
       "    <tr>\n",
       "      <th>0</th>\n",
       "      <td>демократия неумально подвегается пафу и арабск...</td>\n",
       "      <td>демократия неумолимо продвигается по африке и ...</td>\n",
       "      <td>демократия неумолимо подстегивает пауэлла и ар...</td>\n",
       "    </tr>\n",
       "  </tbody>\n",
       "</table>\n",
       "</div>"
      ],
      "text/plain": [
       "                                       transcription  \\\n",
       "0  демократия неумально подвегается пафу и арабск...   \n",
       "\n",
       "                                                  gt  \\\n",
       "0  демократия неумолимо продвигается по африке и ...   \n",
       "\n",
       "                              rescored_transcription  \n",
       "0  демократия неумолимо подстегивает пауэлла и ар...  "
      ]
     },
     "execution_count": 13,
     "metadata": {},
     "output_type": "execute_result"
    }
   ],
   "source": [
    "train_df.head(1)"
   ]
  },
  {
   "cell_type": "code",
   "execution_count": 32,
   "metadata": {},
   "outputs": [
    {
     "data": {
      "text/plain": [
       "(0.3041503429412842, 0.1029081866145134)"
      ]
     },
     "execution_count": 32,
     "metadata": {},
     "output_type": "execute_result"
    }
   ],
   "source": [
    "calculate_error_rates(train_df[\"gt\"][0:3000], train_df[\"transcription\"][0:3000])"
   ]
  },
  {
   "cell_type": "code",
   "execution_count": 33,
   "metadata": {},
   "outputs": [
    {
     "data": {
      "text/plain": [
       "(0.25072795152664185, 0.12694737315177917)"
      ]
     },
     "execution_count": 33,
     "metadata": {},
     "output_type": "execute_result"
    }
   ],
   "source": [
    "calculate_error_rates(train_df[\"gt\"][0:3000], train_df[\"rescored_transcription\"][0:3000])"
   ]
  },
  {
   "cell_type": "code",
   "execution_count": null,
   "metadata": {},
   "outputs": [],
   "source": []
  }
 ],
 "metadata": {
  "kernelspec": {
   "display_name": "Python 3",
   "language": "python",
   "name": "python3"
  },
  "language_info": {
   "codemirror_mode": {
    "name": "ipython",
    "version": 3
   },
   "file_extension": ".py",
   "mimetype": "text/x-python",
   "name": "python",
   "nbconvert_exporter": "python",
   "pygments_lexer": "ipython3",
   "version": "3.10.12"
  }
 },
 "nbformat": 4,
 "nbformat_minor": 2
}
