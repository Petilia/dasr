{
 "cells": [
  {
   "cell_type": "code",
   "execution_count": 1,
   "metadata": {},
   "outputs": [],
   "source": [
    "import re\n",
    "import math\n",
    "import pandas as pd\n",
    "from torchmetrics.text import CharErrorRate, WordErrorRate"
   ]
  },
  {
   "cell_type": "code",
   "execution_count": 2,
   "metadata": {},
   "outputs": [],
   "source": [
    "def normalize_text(text: str):\n",
    "    if isinstance(text, float) and math.isnan(text): # if an input text is empty, then we return an empty text too\n",
    "        return ''\n",
    "    \n",
    "    for char in [\".\", \",\", \"!\", \"?\", \"(\", \")\"]:\n",
    "        text = text.replace(char, \" \")\n",
    "    text = text.replace(\"ё\", \"е\")\n",
    "    text = re.sub(\" +\", \" \", text)\n",
    "    text = re.sub(r\"[^\\w\\s]\", \"\", text)\n",
    "    text = text.lower().strip()\n",
    "    return text\n",
    "\n",
    "def normalize_df(df, column_names = [\"transcription\", \"gt\", \"rescored_transcription\"]):\n",
    "    for colname in column_names:\n",
    "        df[colname] = df[colname].apply(normalize_text) \n",
    "        \n",
    "    return df\n",
    "\n",
    "\n",
    "def calculate_error_rates(target, preds):\n",
    "    wer = WordErrorRate()\n",
    "    cer = CharErrorRate()\n",
    "    \n",
    "    return wer(target=target, preds=preds).item(), cer(target=target, preds=preds).item()"
   ]
  },
  {
   "cell_type": "code",
   "execution_count": 19,
   "metadata": {},
   "outputs": [],
   "source": [
    "# test_df = pd.read_csv(\"test_df_denoisy_rescored.csv\")\n",
    "# test_df = pd.read_csv(\"test_df_finetune_rescored.csv\")\n",
    "# test_df = pd.read_csv(\"test_df_default_asr_rescored.csv\")\n",
    "\n",
    "# test_df = pd.read_csv(\"test_df_denoisy_rescored_yaspeller.csv\")\n",
    "# test_df = pd.read_csv(\"test_df_finetune_rescored_yaspeller.csv\")\n",
    "test_df = pd.read_csv(\"test_df_default_asr_rescored_yaspeller.csv\")\n",
    "\n",
    "\n",
    "\n",
    "# train_df = normalize_df(train_df)\n",
    "test_df = normalize_df(test_df)"
   ]
  },
  {
   "cell_type": "code",
   "execution_count": 20,
   "metadata": {},
   "outputs": [
    {
     "data": {
      "text/html": [
       "<div>\n",
       "<style scoped>\n",
       "    .dataframe tbody tr th:only-of-type {\n",
       "        vertical-align: middle;\n",
       "    }\n",
       "\n",
       "    .dataframe tbody tr th {\n",
       "        vertical-align: top;\n",
       "    }\n",
       "\n",
       "    .dataframe thead th {\n",
       "        text-align: right;\n",
       "    }\n",
       "</style>\n",
       "<table border=\"1\" class=\"dataframe\">\n",
       "  <thead>\n",
       "    <tr style=\"text-align: right;\">\n",
       "      <th></th>\n",
       "      <th>transcription</th>\n",
       "      <th>gt</th>\n",
       "      <th>rescored_transcription</th>\n",
       "    </tr>\n",
       "  </thead>\n",
       "  <tbody>\n",
       "    <tr>\n",
       "      <th>0</th>\n",
       "      <td>к сожаление эти предложения не насвои ображани...</td>\n",
       "      <td>к сожалению эти предложения не нашли отражения...</td>\n",
       "      <td>к сожалению эти предложения не на свои изображ...</td>\n",
       "    </tr>\n",
       "  </tbody>\n",
       "</table>\n",
       "</div>"
      ],
      "text/plain": [
       "                                       transcription  \\\n",
       "0  к сожаление эти предложения не насвои ображани...   \n",
       "\n",
       "                                                  gt  \\\n",
       "0  к сожалению эти предложения не нашли отражения...   \n",
       "\n",
       "                              rescored_transcription  \n",
       "0  к сожалению эти предложения не на свои изображ...  "
      ]
     },
     "execution_count": 20,
     "metadata": {},
     "output_type": "execute_result"
    }
   ],
   "source": [
    "test_df.head(1)"
   ]
  },
  {
   "cell_type": "code",
   "execution_count": 21,
   "metadata": {},
   "outputs": [
    {
     "data": {
      "text/plain": [
       "(0.432607501745224, 0.15791331231594086)"
      ]
     },
     "execution_count": 21,
     "metadata": {},
     "output_type": "execute_result"
    }
   ],
   "source": [
    "calculate_error_rates(test_df[\"gt\"], test_df[\"transcription\"])"
   ]
  },
  {
   "cell_type": "code",
   "execution_count": 22,
   "metadata": {},
   "outputs": [
    {
     "data": {
      "text/plain": [
       "(0.36205047369003296, 0.14901161193847656)"
      ]
     },
     "execution_count": 22,
     "metadata": {},
     "output_type": "execute_result"
    }
   ],
   "source": [
    "calculate_error_rates(test_df[\"gt\"], test_df[\"rescored_transcription\"])"
   ]
  },
  {
   "cell_type": "code",
   "execution_count": 36,
   "metadata": {},
   "outputs": [
    {
     "data": {
      "text/html": [
       "<div>\n",
       "<style scoped>\n",
       "    .dataframe tbody tr th:only-of-type {\n",
       "        vertical-align: middle;\n",
       "    }\n",
       "\n",
       "    .dataframe tbody tr th {\n",
       "        vertical-align: top;\n",
       "    }\n",
       "\n",
       "    .dataframe thead th {\n",
       "        text-align: right;\n",
       "    }\n",
       "</style>\n",
       "<table border=\"1\" class=\"dataframe\">\n",
       "  <thead>\n",
       "    <tr style=\"text-align: right;\">\n",
       "      <th></th>\n",
       "      <th>transcription</th>\n",
       "      <th>gt</th>\n",
       "      <th>rescored_transcription</th>\n",
       "    </tr>\n",
       "  </thead>\n",
       "  <tbody>\n",
       "    <tr>\n",
       "      <th>0</th>\n",
       "      <td>к сожаление эти предложения не насвои ображани...</td>\n",
       "      <td>к сожалению эти предложения не нашли отражения...</td>\n",
       "      <td>к сожалению эти предложения не на свои ображан...</td>\n",
       "    </tr>\n",
       "    <tr>\n",
       "      <th>1</th>\n",
       "      <td>если не будет возражений я буду считать что ас...</td>\n",
       "      <td>если не будет возражений я буду считать что ас...</td>\n",
       "      <td>если не будет возражений я буду считать что об...</td>\n",
       "    </tr>\n",
       "    <tr>\n",
       "      <th>2</th>\n",
       "      <td>на вошаркен милый вород</td>\n",
       "      <td>новошахтинск  милый город</td>\n",
       "      <td>ну вот шаркин милый вот</td>\n",
       "    </tr>\n",
       "    <tr>\n",
       "      <th>3</th>\n",
       "      <td>се рану разозвась что числе теряющихсяот поеще...</td>\n",
       "      <td>мы особенно рады отметить что число скрывающих...</td>\n",
       "      <td>сьюзен кэлвин рассердилась что число теряющихс...</td>\n",
       "    </tr>\n",
       "    <tr>\n",
       "      <th>4</th>\n",
       "      <td>контролер</td>\n",
       "      <td>контроллер</td>\n",
       "      <td>контролер</td>\n",
       "    </tr>\n",
       "    <tr>\n",
       "      <th>...</th>\n",
       "      <td>...</td>\n",
       "      <td>...</td>\n",
       "      <td>...</td>\n",
       "    </tr>\n",
       "    <tr>\n",
       "      <th>9625</th>\n",
       "      <td>мы должны сообща вешать задачи в области остра...</td>\n",
       "      <td>мы должны сообща решать задачи в области охран...</td>\n",
       "      <td>мы должны сообща решать задачи в области особы...</td>\n",
       "    </tr>\n",
       "    <tr>\n",
       "      <th>9626</th>\n",
       "      <td>требуваммое большинство в две третьих</td>\n",
       "      <td>требуемое большинство в две трети</td>\n",
       "      <td>требовало большинство в две третьих</td>\n",
       "    </tr>\n",
       "    <tr>\n",
       "      <th>9627</th>\n",
       "      <td>председатель вновь занимает место председателя</td>\n",
       "      <td>председатель вновь занимает место председателя</td>\n",
       "      <td>председатель вновь занимает место председателя</td>\n",
       "    </tr>\n",
       "    <tr>\n",
       "      <th>9628</th>\n",
       "      <td>давайте же по случаю ее кодобщины вновь подтве...</td>\n",
       "      <td>давайте же по случаю ее годовщины вновь подтве...</td>\n",
       "      <td>давайте же по случаю ее единодушия вновь подтв...</td>\n",
       "    </tr>\n",
       "    <tr>\n",
       "      <th>9629</th>\n",
       "      <td>франция соединенное королевство великобритании...</td>\n",
       "      <td>франция соединенное королевство великобритании...</td>\n",
       "      <td>франция соединенное королевство великобритания...</td>\n",
       "    </tr>\n",
       "  </tbody>\n",
       "</table>\n",
       "<p>9630 rows × 3 columns</p>\n",
       "</div>"
      ],
      "text/plain": [
       "                                          transcription  \\\n",
       "0     к сожаление эти предложения не насвои ображани...   \n",
       "1     если не будет возражений я буду считать что ас...   \n",
       "2                               на вошаркен милый вород   \n",
       "3     се рану разозвась что числе теряющихсяот поеще...   \n",
       "4                                             контролер   \n",
       "...                                                 ...   \n",
       "9625  мы должны сообща вешать задачи в области остра...   \n",
       "9626              требуваммое большинство в две третьих   \n",
       "9627     председатель вновь занимает место председателя   \n",
       "9628  давайте же по случаю ее кодобщины вновь подтве...   \n",
       "9629  франция соединенное королевство великобритании...   \n",
       "\n",
       "                                                     gt  \\\n",
       "0     к сожалению эти предложения не нашли отражения...   \n",
       "1     если не будет возражений я буду считать что ас...   \n",
       "2                             новошахтинск  милый город   \n",
       "3     мы особенно рады отметить что число скрывающих...   \n",
       "4                                            контроллер   \n",
       "...                                                 ...   \n",
       "9625  мы должны сообща решать задачи в области охран...   \n",
       "9626                  требуемое большинство в две трети   \n",
       "9627     председатель вновь занимает место председателя   \n",
       "9628  давайте же по случаю ее годовщины вновь подтве...   \n",
       "9629  франция соединенное королевство великобритании...   \n",
       "\n",
       "                                 rescored_transcription  \n",
       "0     к сожалению эти предложения не на свои ображан...  \n",
       "1     если не будет возражений я буду считать что об...  \n",
       "2                               ну вот шаркин милый вот  \n",
       "3     сьюзен кэлвин рассердилась что число теряющихс...  \n",
       "4                                             контролер  \n",
       "...                                                 ...  \n",
       "9625  мы должны сообща решать задачи в области особы...  \n",
       "9626                требовало большинство в две третьих  \n",
       "9627     председатель вновь занимает место председателя  \n",
       "9628  давайте же по случаю ее единодушия вновь подтв...  \n",
       "9629  франция соединенное королевство великобритания...  \n",
       "\n",
       "[9630 rows x 3 columns]"
      ]
     },
     "execution_count": 36,
     "metadata": {},
     "output_type": "execute_result"
    }
   ],
   "source": [
    "test_df"
   ]
  },
  {
   "cell_type": "code",
   "execution_count": 164,
   "metadata": {},
   "outputs": [
    {
     "data": {
      "text/plain": [
       "transcription             третий комитет принял данный проверк развудици...\n",
       "gt                        третий комитет принял данный проект резолюции ...\n",
       "rescored_transcription    третий комитет принял данный законопроект без ...\n",
       "Name: 222, dtype: object"
      ]
     },
     "execution_count": 164,
     "metadata": {},
     "output_type": "execute_result"
    }
   ],
   "source": [
    "test_df.iloc[222]"
   ]
  },
  {
   "cell_type": "code",
   "execution_count": 148,
   "metadata": {},
   "outputs": [
    {
     "data": {
      "text/plain": [
       "transcription             миротоворчески миссие организация объединенных...\n",
       "gt                        миротворческие миссии организации объединенных...\n",
       "rescored_transcription    политическая миссия организации объединенных н...\n",
       "Name: 206, dtype: object"
      ]
     },
     "execution_count": 148,
     "metadata": {},
     "output_type": "execute_result"
    }
   ],
   "source": [
    "test_df.iloc[206]"
   ]
  },
  {
   "cell_type": "code",
   "execution_count": 38,
   "metadata": {},
   "outputs": [
    {
     "data": {
      "text/plain": [
       "['давайте же по случаю ее кодобщины вновь подтвердим некоторые базовые принципы',\n",
       " 'давайте же по случаю ее годовщины вновь подтвердим некоторые базовые принципы',\n",
       " 'давайте же по случаю ее единодушия вновь подтвердим некоторые базовые принципы']"
      ]
     },
     "execution_count": 38,
     "metadata": {},
     "output_type": "execute_result"
    }
   ],
   "source": [
    "test_df.iloc[9628].tolist()"
   ]
  },
  {
   "cell_type": "code",
   "execution_count": null,
   "metadata": {},
   "outputs": [],
   "source": []
  }
 ],
 "metadata": {
  "kernelspec": {
   "display_name": "Python 3",
   "language": "python",
   "name": "python3"
  },
  "language_info": {
   "codemirror_mode": {
    "name": "ipython",
    "version": 3
   },
   "file_extension": ".py",
   "mimetype": "text/x-python",
   "name": "python",
   "nbconvert_exporter": "python",
   "pygments_lexer": "ipython3",
   "version": "3.10.12"
  }
 },
 "nbformat": 4,
 "nbformat_minor": 2
}
