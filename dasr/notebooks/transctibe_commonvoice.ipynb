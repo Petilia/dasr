{
 "cells": [
  {
   "cell_type": "code",
   "execution_count": 1,
   "metadata": {},
   "outputs": [],
   "source": [
    "%load_ext autoreload\n",
    "%autoreload 2"
   ]
  },
  {
   "cell_type": "code",
   "execution_count": 2,
   "metadata": {},
   "outputs": [],
   "source": [
    "import torch\n",
    "import pandas as pd\n",
    "from tqdm import tqdm\n",
    "from dasr.asr import Wav2VecEnv\n",
    "from dasr.datasets import get_common_voice\n",
    "from dasr.datasets import RandomNoiseSNR"
   ]
  },
  {
   "cell_type": "code",
   "execution_count": 3,
   "metadata": {},
   "outputs": [],
   "source": [
    "def get_common_voice_datasets(train_split=\"train\",\n",
    "                              test_split=\"test\",\n",
    "                              desire_snr_db=10):\n",
    "    \n",
    "    common_voice = get_common_voice(train_split=train_split,\n",
    "                                    test_split=test_split)\n",
    "    \n",
    "    train_dataset = RandomNoiseSNR(common_voice[\"train\"], desire_snr_db=desire_snr_db)\n",
    "    test_dataset = RandomNoiseSNR(common_voice[\"test\"], desire_snr_db=desire_snr_db)\n",
    "    \n",
    "    return train_dataset, test_dataset"
   ]
  },
  {
   "cell_type": "code",
   "execution_count": 4,
   "metadata": {},
   "outputs": [],
   "source": [
    "device = \"cuda\"\n",
    "path_model = \"jonatasgrosman/wav2vec2-large-xlsr-53-russian\"\n",
    "\n",
    "# train_split = \"train[0:3000]\"\n",
    "# test_split = \"test[0:300]\"\n",
    "\n",
    "train_split = \"train\"\n",
    "test_split = \"test\"\n",
    "\n",
    "asr = Wav2VecEnv(path_model=path_model, device=device)\n",
    "\n",
    "train_dataset, test_dataset = get_common_voice_datasets(train_split=train_split,\n",
    "                                                        test_split=test_split)"
   ]
  },
  {
   "cell_type": "code",
   "execution_count": 5,
   "metadata": {},
   "outputs": [],
   "source": [
    "def inference_dataset(dataset, asr):\n",
    "    transcriptions = []\n",
    "    gts = []\n",
    "\n",
    "    for i in tqdm(dataset):\n",
    "        wav = i[\"noise_audio\"].to(device).unsqueeze(0)\n",
    "        transcription = asr.transcribe(wav)    \n",
    "        gt = i[\"transcription\"]\n",
    "        \n",
    "        transcriptions.extend(transcription)\n",
    "        gts.append(gt)\n",
    "        \n",
    "    df = pd.DataFrame({\"transcription\": transcriptions, \"gt\": gts})\n",
    "    return df"
   ]
  },
  {
   "cell_type": "code",
   "execution_count": 6,
   "metadata": {},
   "outputs": [
    {
     "name": "stderr",
     "output_type": "stream",
     "text": [
      "  0%|          | 0/22862 [00:00<?, ?it/s]"
     ]
    },
    {
     "name": "stderr",
     "output_type": "stream",
     "text": [
      "100%|██████████| 22862/22862 [13:48<00:00, 27.60it/s]\n",
      "100%|██████████| 9630/9630 [06:17<00:00, 25.49it/s]\n"
     ]
    }
   ],
   "source": [
    "train_df = inference_dataset(train_dataset, asr)\n",
    "test_df = inference_dataset(test_dataset, asr)"
   ]
  },
  {
   "cell_type": "code",
   "execution_count": 7,
   "metadata": {},
   "outputs": [
    {
     "data": {
      "text/html": [
       "<div>\n",
       "<style scoped>\n",
       "    .dataframe tbody tr th:only-of-type {\n",
       "        vertical-align: middle;\n",
       "    }\n",
       "\n",
       "    .dataframe tbody tr th {\n",
       "        vertical-align: top;\n",
       "    }\n",
       "\n",
       "    .dataframe thead th {\n",
       "        text-align: right;\n",
       "    }\n",
       "</style>\n",
       "<table border=\"1\" class=\"dataframe\">\n",
       "  <thead>\n",
       "    <tr style=\"text-align: right;\">\n",
       "      <th></th>\n",
       "      <th>transcription</th>\n",
       "      <th>gt</th>\n",
       "    </tr>\n",
       "  </thead>\n",
       "  <tbody>\n",
       "    <tr>\n",
       "      <th>0</th>\n",
       "      <td>демократия неумально подвегается пафу и арабск...</td>\n",
       "      <td>Демократия неумолимо продвигается по Африке, и...</td>\n",
       "    </tr>\n",
       "    <tr>\n",
       "      <th>1</th>\n",
       "      <td>доклад международного одетла папа на мить</td>\n",
       "      <td>Доклад Международного агентства по атомной эне...</td>\n",
       "    </tr>\n",
       "    <tr>\n",
       "      <th>2</th>\n",
       "      <td>мы разъясняем иму их права и законы</td>\n",
       "      <td>Мы разъясняем им их права и законы.</td>\n",
       "    </tr>\n",
       "    <tr>\n",
       "      <th>3</th>\n",
       "      <td>только что завершинлось председательство литы ...</td>\n",
       "      <td>Только что завершилось председательство Литвы ...</td>\n",
       "    </tr>\n",
       "    <tr>\n",
       "      <th>4</th>\n",
       "      <td>ведь буфет до последнего человека разом убоили...</td>\n",
       "      <td>Весь буфет до последнего человека разом ввалил...</td>\n",
       "    </tr>\n",
       "  </tbody>\n",
       "</table>\n",
       "</div>"
      ],
      "text/plain": [
       "                                       transcription  \\\n",
       "0  демократия неумально подвегается пафу и арабск...   \n",
       "1          доклад международного одетла папа на мить   \n",
       "2                мы разъясняем иму их права и законы   \n",
       "3  только что завершинлось председательство литы ...   \n",
       "4  ведь буфет до последнего человека разом убоили...   \n",
       "\n",
       "                                                  gt  \n",
       "0  Демократия неумолимо продвигается по Африке, и...  \n",
       "1  Доклад Международного агентства по атомной эне...  \n",
       "2                Мы разъясняем им их права и законы.  \n",
       "3  Только что завершилось председательство Литвы ...  \n",
       "4  Весь буфет до последнего человека разом ввалил...  "
      ]
     },
     "execution_count": 7,
     "metadata": {},
     "output_type": "execute_result"
    }
   ],
   "source": [
    "train_df.head()"
   ]
  },
  {
   "cell_type": "code",
   "execution_count": 8,
   "metadata": {},
   "outputs": [
    {
     "data": {
      "text/html": [
       "<div>\n",
       "<style scoped>\n",
       "    .dataframe tbody tr th:only-of-type {\n",
       "        vertical-align: middle;\n",
       "    }\n",
       "\n",
       "    .dataframe tbody tr th {\n",
       "        vertical-align: top;\n",
       "    }\n",
       "\n",
       "    .dataframe thead th {\n",
       "        text-align: right;\n",
       "    }\n",
       "</style>\n",
       "<table border=\"1\" class=\"dataframe\">\n",
       "  <thead>\n",
       "    <tr style=\"text-align: right;\">\n",
       "      <th></th>\n",
       "      <th>transcription</th>\n",
       "      <th>gt</th>\n",
       "    </tr>\n",
       "  </thead>\n",
       "  <tbody>\n",
       "    <tr>\n",
       "      <th>0</th>\n",
       "      <td>к сожалению эти предложения ненаспе опражения ...</td>\n",
       "      <td>К сожалению, эти предложения не нашли отражени...</td>\n",
       "    </tr>\n",
       "    <tr>\n",
       "      <th>1</th>\n",
       "      <td>если не будет возражений я буду считать что ас...</td>\n",
       "      <td>Если не будет возражений, я буду считать, что ...</td>\n",
       "    </tr>\n",
       "    <tr>\n",
       "      <th>2</th>\n",
       "      <td>на ваш афке кмилый город</td>\n",
       "      <td>Новошахтинск — милый город</td>\n",
       "    </tr>\n",
       "    <tr>\n",
       "      <th>3</th>\n",
       "      <td>цёдарадо ознуть что числе теряюшихся от поечё ...</td>\n",
       "      <td>Мы особенно рады отметить, что число скрывающи...</td>\n",
       "    </tr>\n",
       "    <tr>\n",
       "      <th>4</th>\n",
       "      <td>контролюр</td>\n",
       "      <td>Контроллер</td>\n",
       "    </tr>\n",
       "  </tbody>\n",
       "</table>\n",
       "</div>"
      ],
      "text/plain": [
       "                                       transcription  \\\n",
       "0  к сожалению эти предложения ненаспе опражения ...   \n",
       "1  если не будет возражений я буду считать что ас...   \n",
       "2                           на ваш афке кмилый город   \n",
       "3  цёдарадо ознуть что числе теряюшихся от поечё ...   \n",
       "4                                          контролюр   \n",
       "\n",
       "                                                  gt  \n",
       "0  К сожалению, эти предложения не нашли отражени...  \n",
       "1  Если не будет возражений, я буду считать, что ...  \n",
       "2                         Новошахтинск — милый город  \n",
       "3  Мы особенно рады отметить, что число скрывающи...  \n",
       "4                                         Контроллер  "
      ]
     },
     "execution_count": 8,
     "metadata": {},
     "output_type": "execute_result"
    }
   ],
   "source": [
    "test_df.head()"
   ]
  },
  {
   "cell_type": "code",
   "execution_count": 10,
   "metadata": {},
   "outputs": [
    {
     "data": {
      "text/plain": [
       "(22862, 9630)"
      ]
     },
     "execution_count": 10,
     "metadata": {},
     "output_type": "execute_result"
    }
   ],
   "source": [
    "len(train_df), len(test_df)"
   ]
  },
  {
   "cell_type": "code",
   "execution_count": 9,
   "metadata": {},
   "outputs": [],
   "source": [
    "train_df.to_csv(\"train_df.csv\", index=False)\n",
    "test_df.to_csv(\"test_df.csv\", index=False)"
   ]
  },
  {
   "cell_type": "code",
   "execution_count": null,
   "metadata": {},
   "outputs": [],
   "source": []
  }
 ],
 "metadata": {
  "kernelspec": {
   "display_name": "Python 3",
   "language": "python",
   "name": "python3"
  },
  "language_info": {
   "codemirror_mode": {
    "name": "ipython",
    "version": 3
   },
   "file_extension": ".py",
   "mimetype": "text/x-python",
   "name": "python",
   "nbconvert_exporter": "python",
   "pygments_lexer": "ipython3",
   "version": "3.8.10"
  }
 },
 "nbformat": 4,
 "nbformat_minor": 2
}
