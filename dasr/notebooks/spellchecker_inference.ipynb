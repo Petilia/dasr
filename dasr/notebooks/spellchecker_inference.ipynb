{
 "cells": [
  {
   "cell_type": "code",
   "execution_count": 1,
   "metadata": {},
   "outputs": [],
   "source": [
    "# !pip install sentencepiece"
   ]
  },
  {
   "cell_type": "code",
   "execution_count": 2,
   "metadata": {},
   "outputs": [],
   "source": [
    "from transformers import T5ForConditionalGeneration, T5Tokenizer\n",
    "import torch\n",
    "import pandas as pd\n",
    "from tqdm import tqdm"
   ]
  },
  {
   "cell_type": "code",
   "execution_count": 68,
   "metadata": {},
   "outputs": [],
   "source": [
    "import math\n",
    "\n",
    "def rescore(text: str, tokenizer: T5Tokenizer,\n",
    "            model: T5ForConditionalGeneration) -> str:\n",
    "    \n",
    "    if isinstance(text, float) and math.isnan(text): # if an input text is empty, then we return an empty text too\n",
    "        return ''\n",
    "    elif len(text) == 0:  # if an input text is empty, then we return an empty text too\n",
    "        return ''\n",
    "    ru_letters = set('аоуыэяеёюибвгдйжзклмнпрстфхцчшщьъ')\n",
    "    punct = set('.,:/\\\\?!()[]{};\"\\'-')\n",
    "    x = tokenizer(text, return_tensors='pt', padding=True).to(model.device)\n",
    "    max_size = int(x.input_ids.shape[1] * 1.5 + 10)\n",
    "    min_size = 3\n",
    "    if x.input_ids.shape[1] <= min_size:\n",
    "        return text  # we don't rescore a very short text\n",
    "    out = model.generate(**x, do_sample=False, num_beams=5,\n",
    "                         max_length=max_size, min_length=min_size)\n",
    "    res = tokenizer.decode(out[0], skip_special_tokens=True).lower().strip()\n",
    "    res = ' '.join(res.split())\n",
    "    postprocessed = ''\n",
    "    for cur in res:\n",
    "        if cur.isspace() or (cur in punct):\n",
    "            postprocessed += ' '\n",
    "        elif cur in ru_letters:\n",
    "            postprocessed += cur\n",
    "    return (' '.join(postprocessed.strip().split())).replace('ё', 'е')"
   ]
  },
  {
   "cell_type": "code",
   "execution_count": 4,
   "metadata": {},
   "outputs": [],
   "source": [
    "model_name = 'bond005/ruT5-ASR'\n",
    "\n",
    "tokenizer_for_rescoring = T5Tokenizer.from_pretrained(model_name)\n",
    "model_for_rescoring = T5ForConditionalGeneration.from_pretrained(model_name)\n",
    "\n",
    "if torch.cuda.is_available():\n",
    "    model_for_rescoring = model_for_rescoring.cuda()"
   ]
  },
  {
   "cell_type": "code",
   "execution_count": 13,
   "metadata": {},
   "outputs": [
    {
     "data": {
      "text/html": [
       "<div>\n",
       "<style scoped>\n",
       "    .dataframe tbody tr th:only-of-type {\n",
       "        vertical-align: middle;\n",
       "    }\n",
       "\n",
       "    .dataframe tbody tr th {\n",
       "        vertical-align: top;\n",
       "    }\n",
       "\n",
       "    .dataframe thead th {\n",
       "        text-align: right;\n",
       "    }\n",
       "</style>\n",
       "<table border=\"1\" class=\"dataframe\">\n",
       "  <thead>\n",
       "    <tr style=\"text-align: right;\">\n",
       "      <th></th>\n",
       "      <th>transcription</th>\n",
       "      <th>gt</th>\n",
       "    </tr>\n",
       "  </thead>\n",
       "  <tbody>\n",
       "    <tr>\n",
       "      <th>0</th>\n",
       "      <td>демократия неумально подвегается пафу и арабск...</td>\n",
       "      <td>Демократия неумолимо продвигается по Африке, и...</td>\n",
       "    </tr>\n",
       "  </tbody>\n",
       "</table>\n",
       "</div>"
      ],
      "text/plain": [
       "                                       transcription  \\\n",
       "0  демократия неумально подвегается пафу и арабск...   \n",
       "\n",
       "                                                  gt  \n",
       "0  Демократия неумолимо продвигается по Африке, и...  "
      ]
     },
     "execution_count": 13,
     "metadata": {},
     "output_type": "execute_result"
    }
   ],
   "source": [
    "train_df = pd.read_csv('train_df.csv')\n",
    "test_df = pd.read_csv('test_df.csv')\n",
    "\n",
    "train_df.head(1)"
   ]
  },
  {
   "cell_type": "code",
   "execution_count": 26,
   "metadata": {},
   "outputs": [
    {
     "name": "stderr",
     "output_type": "stream",
     "text": [
      "100%|██████████| 22862/22862 [1:12:36<00:00,  5.25it/s]\n"
     ]
    }
   ],
   "source": [
    "rescored_results = []\n",
    "\n",
    "for i in tqdm(train_df[\"transcription\"]):\n",
    "    rescored = rescore(i, tokenizer_for_rescoring, model_for_rescoring)\n",
    "    rescored_results.append(rescored)\n",
    "    \n",
    "train_df[\"rescored_transcription\"] = rescored_results"
   ]
  },
  {
   "cell_type": "code",
   "execution_count": 69,
   "metadata": {},
   "outputs": [
    {
     "name": "stderr",
     "output_type": "stream",
     "text": [
      "100%|██████████| 9630/9630 [30:54<00:00,  5.19it/s]\n"
     ]
    }
   ],
   "source": [
    "test_rescored_results = []\n",
    "\n",
    "for i in tqdm(test_df[\"transcription\"]):\n",
    "    rescored = rescore(i, tokenizer_for_rescoring, model_for_rescoring)\n",
    "    test_rescored_results.append(rescored)\n",
    "    \n",
    "test_df[\"rescored_transcription\"] = test_rescored_results"
   ]
  },
  {
   "cell_type": "code",
   "execution_count": 70,
   "metadata": {},
   "outputs": [],
   "source": [
    "train_df.to_csv('train_df_rescored.csv', index=False)\n",
    "test_df.to_csv('test_df_rescored.csv', index=False)"
   ]
  },
  {
   "cell_type": "code",
   "execution_count": null,
   "metadata": {},
   "outputs": [],
   "source": []
  },
  {
   "cell_type": "code",
   "execution_count": 25,
   "metadata": {},
   "outputs": [
    {
     "data": {
      "text/plain": [
       "['демократия неумолимо подстегивает пауэлла и арабская весна была ее концом',\n",
       " 'доклад международного одета папа нагиш',\n",
       " 'мы разъясняем ему их права и законы',\n",
       " 'только что завершившееся председательствование группы демократии',\n",
       " 'ведь буфет до последнего человека разом превратился в зал',\n",
       " 'в развитии континента достигнут зачислительный прогресс',\n",
       " 'это позволит сберечь еще больше жизней в предстоящие годы',\n",
       " 'бангладеш каждый год терует голову ну прямо вот чем национальный день кстати',\n",
       " 'мы должны положить глаз на место для развития на основе сотрудничества',\n",
       " 'как руководители стран мира вы должны остановиться задуматься и дать гражданам отдохнуть',\n",
       " 'слово имеет посол эквадора альпонсо моравьев',\n",
       " 'вот это уж наш палев',\n",
       " 'ты не можешь судить только девица не может тать и престить войси',\n",
       " 'такую принципиальную позицию занимает государство члены этого органа']"
      ]
     },
     "execution_count": 25,
     "metadata": {},
     "output_type": "execute_result"
    }
   ],
   "source": [
    "rescored_results"
   ]
  },
  {
   "cell_type": "code",
   "execution_count": null,
   "metadata": {},
   "outputs": [],
   "source": []
  }
 ],
 "metadata": {
  "kernelspec": {
   "display_name": "Python 3",
   "language": "python",
   "name": "python3"
  },
  "language_info": {
   "codemirror_mode": {
    "name": "ipython",
    "version": 3
   },
   "file_extension": ".py",
   "mimetype": "text/x-python",
   "name": "python",
   "nbconvert_exporter": "python",
   "pygments_lexer": "ipython3",
   "version": "3.10.12"
  }
 },
 "nbformat": 4,
 "nbformat_minor": 2
}
