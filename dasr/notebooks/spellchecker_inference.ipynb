{
 "cells": [
  {
   "cell_type": "code",
   "execution_count": 1,
   "metadata": {},
   "outputs": [
    {
     "name": "stdout",
     "output_type": "stream",
     "text": [
      "Defaulting to user installation because normal site-packages is not writeable\n",
      "Collecting pyaspeller\n",
      "  Downloading pyaspeller-2.0.0-py3-none-any.whl.metadata (2.9 kB)\n",
      "Requirement already satisfied: requests<3.0.0,>=2.27.1 in /usr/local/lib/python3.10/dist-packages (from pyaspeller) (2.32.3)\n",
      "Requirement already satisfied: charset-normalizer<4,>=2 in /usr/local/lib/python3.10/dist-packages (from requests<3.0.0,>=2.27.1->pyaspeller) (3.3.2)\n",
      "Requirement already satisfied: idna<4,>=2.5 in /usr/local/lib/python3.10/dist-packages (from requests<3.0.0,>=2.27.1->pyaspeller) (3.7)\n",
      "Requirement already satisfied: urllib3<3,>=1.21.1 in /usr/local/lib/python3.10/dist-packages (from requests<3.0.0,>=2.27.1->pyaspeller) (2.2.1)\n",
      "Requirement already satisfied: certifi>=2017.4.17 in /usr/local/lib/python3.10/dist-packages (from requests<3.0.0,>=2.27.1->pyaspeller) (2024.6.2)\n",
      "Downloading pyaspeller-2.0.0-py3-none-any.whl (12 kB)\n",
      "Installing collected packages: pyaspeller\n",
      "Successfully installed pyaspeller-2.0.0\n"
     ]
    }
   ],
   "source": [
    "# !pip install sentencepiece\n",
    "# !pip install pyaspeller"
   ]
  },
  {
   "cell_type": "code",
   "execution_count": 2,
   "metadata": {},
   "outputs": [],
   "source": [
    "from transformers import T5ForConditionalGeneration, T5Tokenizer\n",
    "import torch\n",
    "import pandas as pd\n",
    "from tqdm import tqdm\n",
    "from pyaspeller import YandexSpeller"
   ]
  },
  {
   "cell_type": "code",
   "execution_count": 3,
   "metadata": {},
   "outputs": [],
   "source": [
    "import math\n",
    "\n",
    "def rescore(text: str, tokenizer: T5Tokenizer,\n",
    "            model: T5ForConditionalGeneration) -> str:\n",
    "    \n",
    "    if isinstance(text, float) and math.isnan(text): # if an input text is empty, then we return an empty text too\n",
    "        return ''\n",
    "    elif len(text) == 0:  # if an input text is empty, then we return an empty text too\n",
    "        return ''\n",
    "    ru_letters = set('аоуыэяеёюибвгдйжзклмнпрстфхцчшщьъ')\n",
    "    punct = set('.,:/\\\\?!()[]{};\"\\'-')\n",
    "    x = tokenizer(text, return_tensors='pt', padding=True).to(model.device)\n",
    "    max_size = int(x.input_ids.shape[1] * 1.5 + 10)\n",
    "    min_size = 3\n",
    "    if x.input_ids.shape[1] <= min_size:\n",
    "        return text  # we don't rescore a very short text\n",
    "    out = model.generate(**x, do_sample=False, num_beams=5,\n",
    "                         max_length=max_size, min_length=min_size)\n",
    "    res = tokenizer.decode(out[0], skip_special_tokens=True).lower().strip()\n",
    "    res = ' '.join(res.split())\n",
    "    postprocessed = ''\n",
    "    for cur in res:\n",
    "        if cur.isspace() or (cur in punct):\n",
    "            postprocessed += ' '\n",
    "        elif cur in ru_letters:\n",
    "            postprocessed += cur\n",
    "    return (' '.join(postprocessed.strip().split())).replace('ё', 'е')"
   ]
  },
  {
   "cell_type": "code",
   "execution_count": 30,
   "metadata": {},
   "outputs": [
    {
     "data": {
      "text/plain": [
       "'машинное обучение классная весчь'"
      ]
     },
     "execution_count": 30,
     "metadata": {},
     "output_type": "execute_result"
    }
   ],
   "source": [
    "speller = YandexSpeller()\n",
    "\n",
    "def rescore_ya_speller(text):\n",
    "    if isinstance(text, float) and math.isnan(text): # if an input text is empty, then we return an empty text too\n",
    "        return ''\n",
    "    elif len(text) == 0:  # if an input text is empty, then we return an empty text too\n",
    "        return ''\n",
    "    \n",
    "    fixed = speller.spelled(text)\n",
    "    return fixed    \n",
    "\n",
    "rescore_ya_speller(\"мишинное обеченее клоссная весчь\")"
   ]
  },
  {
   "cell_type": "markdown",
   "metadata": {},
   "source": [
    "# Load Transcriptions"
   ]
  },
  {
   "cell_type": "code",
   "execution_count": 36,
   "metadata": {},
   "outputs": [
    {
     "data": {
      "text/html": [
       "<div>\n",
       "<style scoped>\n",
       "    .dataframe tbody tr th:only-of-type {\n",
       "        vertical-align: middle;\n",
       "    }\n",
       "\n",
       "    .dataframe tbody tr th {\n",
       "        vertical-align: top;\n",
       "    }\n",
       "\n",
       "    .dataframe thead th {\n",
       "        text-align: right;\n",
       "    }\n",
       "</style>\n",
       "<table border=\"1\" class=\"dataframe\">\n",
       "  <thead>\n",
       "    <tr style=\"text-align: right;\">\n",
       "      <th></th>\n",
       "      <th>transcription</th>\n",
       "      <th>gt</th>\n",
       "    </tr>\n",
       "  </thead>\n",
       "  <tbody>\n",
       "    <tr>\n",
       "      <th>0</th>\n",
       "      <td>к сожаление эти предложения не насвои ображани...</td>\n",
       "      <td>К сожалению, эти предложения не нашли отражени...</td>\n",
       "    </tr>\n",
       "    <tr>\n",
       "      <th>1</th>\n",
       "      <td>если не будет возражений я буду считать что ас...</td>\n",
       "      <td>Если не будет возражений, я буду считать, что ...</td>\n",
       "    </tr>\n",
       "    <tr>\n",
       "      <th>2</th>\n",
       "      <td>на вошаркен милый вород</td>\n",
       "      <td>Новошахтинск — милый город</td>\n",
       "    </tr>\n",
       "    <tr>\n",
       "      <th>3</th>\n",
       "      <td>сё рану разозвась что числе теряющихсяот поещё...</td>\n",
       "      <td>Мы особенно рады отметить, что число скрывающи...</td>\n",
       "    </tr>\n",
       "    <tr>\n",
       "      <th>4</th>\n",
       "      <td>контролер</td>\n",
       "      <td>Контроллер</td>\n",
       "    </tr>\n",
       "    <tr>\n",
       "      <th>...</th>\n",
       "      <td>...</td>\n",
       "      <td>...</td>\n",
       "    </tr>\n",
       "    <tr>\n",
       "      <th>9625</th>\n",
       "      <td>мы должны сообща вешать задачи в области остра...</td>\n",
       "      <td>Мы должны сообща решать задачи в области охран...</td>\n",
       "    </tr>\n",
       "    <tr>\n",
       "      <th>9626</th>\n",
       "      <td>требуваммое большинство в две третьих</td>\n",
       "      <td>Требуемое большинство в две трети.</td>\n",
       "    </tr>\n",
       "    <tr>\n",
       "      <th>9627</th>\n",
       "      <td>председатель вновь занимает место председателя</td>\n",
       "      <td>Председатель вновь занимает место Председателя.</td>\n",
       "    </tr>\n",
       "    <tr>\n",
       "      <th>9628</th>\n",
       "      <td>давайте же по случаю ее кодобщины вновь подтве...</td>\n",
       "      <td>Давайте же по случаю ее годовщины вновь подтве...</td>\n",
       "    </tr>\n",
       "    <tr>\n",
       "      <th>9629</th>\n",
       "      <td>франция соединенное королевство великобритании...</td>\n",
       "      <td>Франция, Соединенное Королевство Великобритани...</td>\n",
       "    </tr>\n",
       "  </tbody>\n",
       "</table>\n",
       "<p>9630 rows × 2 columns</p>\n",
       "</div>"
      ],
      "text/plain": [
       "                                          transcription  \\\n",
       "0     к сожаление эти предложения не насвои ображани...   \n",
       "1     если не будет возражений я буду считать что ас...   \n",
       "2                               на вошаркен милый вород   \n",
       "3     сё рану разозвась что числе теряющихсяот поещё...   \n",
       "4                                             контролер   \n",
       "...                                                 ...   \n",
       "9625  мы должны сообща вешать задачи в области остра...   \n",
       "9626              требуваммое большинство в две третьих   \n",
       "9627     председатель вновь занимает место председателя   \n",
       "9628  давайте же по случаю ее кодобщины вновь подтве...   \n",
       "9629  франция соединенное королевство великобритании...   \n",
       "\n",
       "                                                     gt  \n",
       "0     К сожалению, эти предложения не нашли отражени...  \n",
       "1     Если не будет возражений, я буду считать, что ...  \n",
       "2                            Новошахтинск — милый город  \n",
       "3     Мы особенно рады отметить, что число скрывающи...  \n",
       "4                                            Контроллер  \n",
       "...                                                 ...  \n",
       "9625  Мы должны сообща решать задачи в области охран...  \n",
       "9626                 Требуемое большинство в две трети.  \n",
       "9627    Председатель вновь занимает место Председателя.  \n",
       "9628  Давайте же по случаю ее годовщины вновь подтве...  \n",
       "9629  Франция, Соединенное Королевство Великобритани...  \n",
       "\n",
       "[9630 rows x 2 columns]"
      ]
     },
     "execution_count": 36,
     "metadata": {},
     "output_type": "execute_result"
    }
   ],
   "source": [
    "# test_df = pd.read_csv('test_df_denoisy.csv')\n",
    "# test_df = pd.read_csv('test_df_finetune.csv')\n",
    "test_df = pd.read_csv('test_df_default_asr.csv')\n",
    "\n",
    "test_df.head(1)\n",
    "test_df"
   ]
  },
  {
   "cell_type": "markdown",
   "metadata": {},
   "source": [
    "# Rescore by YaSpeller"
   ]
  },
  {
   "cell_type": "code",
   "execution_count": 37,
   "metadata": {},
   "outputs": [
    {
     "name": "stderr",
     "output_type": "stream",
     "text": [
      "100%|██████████| 9630/9630 [26:34<00:00,  6.04it/s]  \n"
     ]
    }
   ],
   "source": [
    "test_rescored_results = []\n",
    "\n",
    "for i in tqdm(test_df[\"transcription\"]):\n",
    "    rescored = rescore_ya_speller(i) \n",
    "    test_rescored_results.append(rescored)\n",
    "    \n",
    "test_df[\"rescored_transcription\"] = test_rescored_results"
   ]
  },
  {
   "cell_type": "code",
   "execution_count": 38,
   "metadata": {},
   "outputs": [],
   "source": [
    "# test_df.to_csv('test_df_denoisy_rescored_yaspeller.csv', index=False)\n",
    "# test_df.to_csv('test_df_finetune_rescored_yaspeller.csv', index=False)\n",
    "test_df.to_csv('test_df_default_asr_rescored_yaspeller.csv', index=False)"
   ]
  },
  {
   "cell_type": "markdown",
   "metadata": {},
   "source": [
    "# Rescore by T5"
   ]
  },
  {
   "cell_type": "code",
   "execution_count": 13,
   "metadata": {},
   "outputs": [
    {
     "name": "stderr",
     "output_type": "stream",
     "text": [
      "/usr/local/lib/python3.10/dist-packages/huggingface_hub/file_download.py:1132: FutureWarning: `resume_download` is deprecated and will be removed in version 1.0.0. Downloads always resume when possible. If you want to force a new download, use `force_download=True`.\n",
      "  warnings.warn(\n"
     ]
    }
   ],
   "source": [
    "model_name = 'bond005/ruT5-ASR'\n",
    "\n",
    "tokenizer_for_rescoring = T5Tokenizer.from_pretrained(model_name)\n",
    "model_for_rescoring = T5ForConditionalGeneration.from_pretrained(model_name)\n",
    "\n",
    "if torch.cuda.is_available():\n",
    "    model_for_rescoring = model_for_rescoring.cuda()"
   ]
  },
  {
   "cell_type": "code",
   "execution_count": 34,
   "metadata": {},
   "outputs": [
    {
     "name": "stderr",
     "output_type": "stream",
     "text": [
      "100%|██████████| 9630/9630 [33:10<00:00,  4.84it/s]\n"
     ]
    }
   ],
   "source": [
    "test_rescored_results = []\n",
    "\n",
    "for i in tqdm(test_df[\"transcription\"]):\n",
    "    rescored = rescore(i, tokenizer_for_rescoring, model_for_rescoring)\n",
    "    test_rescored_results.append(rescored)\n",
    "    \n",
    "test_df[\"rescored_transcription\"] = test_rescored_results"
   ]
  },
  {
   "cell_type": "code",
   "execution_count": 35,
   "metadata": {},
   "outputs": [
    {
     "data": {
      "text/html": [
       "<div>\n",
       "<style scoped>\n",
       "    .dataframe tbody tr th:only-of-type {\n",
       "        vertical-align: middle;\n",
       "    }\n",
       "\n",
       "    .dataframe tbody tr th {\n",
       "        vertical-align: top;\n",
       "    }\n",
       "\n",
       "    .dataframe thead th {\n",
       "        text-align: right;\n",
       "    }\n",
       "</style>\n",
       "<table border=\"1\" class=\"dataframe\">\n",
       "  <thead>\n",
       "    <tr style=\"text-align: right;\">\n",
       "      <th></th>\n",
       "      <th>transcription</th>\n",
       "      <th>gt</th>\n",
       "      <th>rescored_transcription</th>\n",
       "    </tr>\n",
       "  </thead>\n",
       "  <tbody>\n",
       "    <tr>\n",
       "      <th>0</th>\n",
       "      <td>сожаление эти предложения наносли отражения в ...</td>\n",
       "      <td>К сожалению, эти предложения не нашли отражени...</td>\n",
       "      <td>к сожалению эти предложения наносили отражение...</td>\n",
       "    </tr>\n",
       "    <tr>\n",
       "      <th>1</th>\n",
       "      <td>если не будет возражений я буду считать что ас...</td>\n",
       "      <td>Если не будет возражений, я буду считать, что ...</td>\n",
       "      <td>если не будет возражений я буду считать что ас...</td>\n",
       "    </tr>\n",
       "    <tr>\n",
       "      <th>2</th>\n",
       "      <td>навошафкин вскмилый город</td>\n",
       "      <td>Новошахтинск — милый город</td>\n",
       "      <td>на ворошилова всколыхнулся город</td>\n",
       "    </tr>\n",
       "    <tr>\n",
       "      <th>3</th>\n",
       "      <td>на особенно рады ознуть что числы ешесят поесе...</td>\n",
       "      <td>Мы особенно рады отметить, что число скрывающи...</td>\n",
       "      <td>но особенно рады были узнать что числящийся по...</td>\n",
       "    </tr>\n",
       "    <tr>\n",
       "      <th>4</th>\n",
       "      <td>контролер</td>\n",
       "      <td>Контроллер</td>\n",
       "      <td>контролер</td>\n",
       "    </tr>\n",
       "    <tr>\n",
       "      <th>...</th>\n",
       "      <td>...</td>\n",
       "      <td>...</td>\n",
       "      <td>...</td>\n",
       "    </tr>\n",
       "    <tr>\n",
       "      <th>9625</th>\n",
       "      <td>мы должны сообща огешать задачи в области охтр...</td>\n",
       "      <td>Мы должны сообща решать задачи в области охран...</td>\n",
       "      <td>мы должны сообща решать задачи в области охран...</td>\n",
       "    </tr>\n",
       "    <tr>\n",
       "      <th>9626</th>\n",
       "      <td>требуемое большинство в две третьих</td>\n",
       "      <td>Требуемое большинство в две трети.</td>\n",
       "      <td>требуемое большинство в две третьих</td>\n",
       "    </tr>\n",
       "    <tr>\n",
       "      <th>9627</th>\n",
       "      <td>председатель вновь занимает место председателя</td>\n",
       "      <td>Председатель вновь занимает место Председателя.</td>\n",
       "      <td>председатель вновь занимает место председателя</td>\n",
       "    </tr>\n",
       "    <tr>\n",
       "      <th>9628</th>\n",
       "      <td>давайте же по случаю ее боговщины вновь подтве...</td>\n",
       "      <td>Давайте же по случаю ее годовщины вновь подтве...</td>\n",
       "      <td>давайте же по случаю ее годовщины вновь подтве...</td>\n",
       "    </tr>\n",
       "    <tr>\n",
       "      <th>9629</th>\n",
       "      <td>франция  соединенное королевство великобритани...</td>\n",
       "      <td>Франция, Соединенное Королевство Великобритани...</td>\n",
       "      <td>франция соединенное королевство великобритания...</td>\n",
       "    </tr>\n",
       "  </tbody>\n",
       "</table>\n",
       "<p>9630 rows × 3 columns</p>\n",
       "</div>"
      ],
      "text/plain": [
       "                                          transcription  \\\n",
       "0     сожаление эти предложения наносли отражения в ...   \n",
       "1     если не будет возражений я буду считать что ас...   \n",
       "2                             навошафкин вскмилый город   \n",
       "3     на особенно рады ознуть что числы ешесят поесе...   \n",
       "4                                             контролер   \n",
       "...                                                 ...   \n",
       "9625  мы должны сообща огешать задачи в области охтр...   \n",
       "9626                требуемое большинство в две третьих   \n",
       "9627     председатель вновь занимает место председателя   \n",
       "9628  давайте же по случаю ее боговщины вновь подтве...   \n",
       "9629  франция  соединенное королевство великобритани...   \n",
       "\n",
       "                                                     gt  \\\n",
       "0     К сожалению, эти предложения не нашли отражени...   \n",
       "1     Если не будет возражений, я буду считать, что ...   \n",
       "2                            Новошахтинск — милый город   \n",
       "3     Мы особенно рады отметить, что число скрывающи...   \n",
       "4                                            Контроллер   \n",
       "...                                                 ...   \n",
       "9625  Мы должны сообща решать задачи в области охран...   \n",
       "9626                 Требуемое большинство в две трети.   \n",
       "9627    Председатель вновь занимает место Председателя.   \n",
       "9628  Давайте же по случаю ее годовщины вновь подтве...   \n",
       "9629  Франция, Соединенное Королевство Великобритани...   \n",
       "\n",
       "                                 rescored_transcription  \n",
       "0     к сожалению эти предложения наносили отражение...  \n",
       "1     если не будет возражений я буду считать что ас...  \n",
       "2                      на ворошилова всколыхнулся город  \n",
       "3     но особенно рады были узнать что числящийся по...  \n",
       "4                                             контролер  \n",
       "...                                                 ...  \n",
       "9625  мы должны сообща решать задачи в области охран...  \n",
       "9626                требуемое большинство в две третьих  \n",
       "9627     председатель вновь занимает место председателя  \n",
       "9628  давайте же по случаю ее годовщины вновь подтве...  \n",
       "9629  франция соединенное королевство великобритания...  \n",
       "\n",
       "[9630 rows x 3 columns]"
      ]
     },
     "execution_count": 35,
     "metadata": {},
     "output_type": "execute_result"
    }
   ],
   "source": [
    "test_df"
   ]
  },
  {
   "cell_type": "code",
   "execution_count": 36,
   "metadata": {},
   "outputs": [],
   "source": [
    "# train_df.to_csv('train_df_rescored.csv', index=False)\n",
    "test_df.to_csv('test_df_finetune_rescored.csv', index=False)"
   ]
  },
  {
   "cell_type": "code",
   "execution_count": null,
   "metadata": {},
   "outputs": [],
   "source": []
  },
  {
   "cell_type": "code",
   "execution_count": null,
   "metadata": {},
   "outputs": [],
   "source": []
  }
 ],
 "metadata": {
  "kernelspec": {
   "display_name": "Python 3",
   "language": "python",
   "name": "python3"
  },
  "language_info": {
   "codemirror_mode": {
    "name": "ipython",
    "version": 3
   },
   "file_extension": ".py",
   "mimetype": "text/x-python",
   "name": "python",
   "nbconvert_exporter": "python",
   "pygments_lexer": "ipython3",
   "version": "3.10.12"
  }
 },
 "nbformat": 4,
 "nbformat_minor": 2
}
