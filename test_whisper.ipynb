{
 "cells": [
  {
   "cell_type": "code",
   "execution_count": 1,
   "metadata": {},
   "outputs": [
    {
     "name": "stderr",
     "output_type": "stream",
     "text": [
      "/usr/local/lib/python3.10/dist-packages/hydra/core/plugins.py:225: UserWarning: \n",
      "\tError importing 'hydra_plugins.hydra_colorlog'.\n",
      "\tPlugin is incompatible with this Hydra version or buggy.\n",
      "\tRecommended to uninstall or upgrade plugin.\n",
      "\t\tImportError : cannot import name 'SearchPathPlugin' from 'hydra.plugins' (/usr/local/lib/python3.10/dist-packages/hydra/plugins/__init__.py)\n",
      "  warnings.warn(\n",
      "/usr/local/lib/python3.10/dist-packages/hydra/_internal/defaults_list.py:251: UserWarning: In 'config.yaml': Defaults list is missing `_self_`. See https://hydra.cc/docs/1.2/upgrades/1.0_to_1.1/default_composition_order for more information\n",
      "  warnings.warn(msg, UserWarning)\n"
     ]
    }
   ],
   "source": [
    "import os\n",
    "from hydra import initialize, compose\n",
    "from hydra.utils import instantiate\n",
    "\n",
    "os.environ[\"HYDRA_FULL_ERROR\"] = \"1\"\n",
    "os.environ[\"NUMBA_CACHE_DIR\"] = \"/tmp/\"\n",
    "\n",
    "with initialize(version_base=None, config_path=\"configs\"):\n",
    "    cfg = compose(config_name='config.yaml')"
   ]
  },
  {
   "cell_type": "code",
   "execution_count": 2,
   "metadata": {},
   "outputs": [],
   "source": [
    "asr = instantiate(cfg.asr)"
   ]
  },
  {
   "cell_type": "code",
   "execution_count": 3,
   "metadata": {},
   "outputs": [
    {
     "name": "stdout",
     "output_type": "stream",
     "text": [
      "Start loading datasets\n",
      "Train dataset loaded\n",
      "Test dataset loaded\n"
     ]
    }
   ],
   "source": [
    "train_loader, test_loader = instantiate(cfg.data)"
   ]
  },
  {
   "cell_type": "code",
   "execution_count": 4,
   "metadata": {},
   "outputs": [
    {
     "data": {
      "text/plain": [
       "(5,\n",
       " {'clean_audios': tensor([[-1.8190e-12, -5.4570e-12, -2.9104e-11,  ...,  0.0000e+00,\n",
       "            0.0000e+00,  0.0000e+00],\n",
       "          [-6.1062e-16, -1.9429e-16,  1.3878e-16,  ..., -3.6380e-12,\n",
       "           -7.2760e-12,  0.0000e+00],\n",
       "          [ 0.0000e+00,  0.0000e+00,  0.0000e+00,  ...,  0.0000e+00,\n",
       "            0.0000e+00,  0.0000e+00],\n",
       "          [-8.1855e-12,  5.4570e-12, -1.0914e-11,  ...,  0.0000e+00,\n",
       "            0.0000e+00,  0.0000e+00],\n",
       "          [ 4.1473e-10,  3.7107e-10, -2.9104e-11,  ...,  0.0000e+00,\n",
       "            0.0000e+00,  0.0000e+00]]),\n",
       "  'noise_audios': tensor([[-0.0034,  0.0123,  0.0004,  ...,  0.0000,  0.0000,  0.0000],\n",
       "          [ 0.0073,  0.0331, -0.0177,  ...,  0.0149, -0.0157, -0.0229],\n",
       "          [ 0.0215, -0.0112,  0.0059,  ...,  0.0000,  0.0000,  0.0000],\n",
       "          [-0.0166,  0.0150, -0.0191,  ...,  0.0000,  0.0000,  0.0000],\n",
       "          [ 0.0009,  0.0011, -0.0002,  ...,  0.0000,  0.0000,  0.0000]]),\n",
       "  'clean_attention_masks': tensor([[1., 1., 1.,  ..., 0., 0., 0.],\n",
       "          [1., 1., 1.,  ..., 1., 1., 1.],\n",
       "          [1., 1., 1.,  ..., 0., 0., 0.],\n",
       "          [1., 1., 1.,  ..., 0., 0., 0.],\n",
       "          [1., 1., 1.,  ..., 0., 0., 0.]]),\n",
       "  'noise_attention_masks': tensor([[1., 1., 1.,  ..., 0., 0., 0.],\n",
       "          [1., 1., 1.,  ..., 1., 1., 1.],\n",
       "          [1., 1., 1.,  ..., 0., 0., 0.],\n",
       "          [1., 1., 1.,  ..., 0., 0., 0.],\n",
       "          [1., 1., 1.,  ..., 0., 0., 0.]]),\n",
       "  'transcriptions': ['К сожалению, эти предложения не нашли отражения в тексте.',\n",
       "   'Если не будет возражений, я буду считать, что Ассамблея согласна с этим предложением.',\n",
       "   'Новошахтинск — милый город',\n",
       "   'Мы особенно рады отметить, что число скрывающихся от правосудия лиц уменьшилось.',\n",
       "   'Контроллер']})"
      ]
     },
     "execution_count": 4,
     "metadata": {},
     "output_type": "execute_result"
    }
   ],
   "source": [
    "batch = next(iter(test_loader))\n",
    "len(batch), batch"
   ]
  },
  {
   "cell_type": "code",
   "execution_count": 5,
   "metadata": {},
   "outputs": [],
   "source": [
    "noise_audios =  batch[\"noise_audios\"]\n",
    "clean_audios =  batch[\"clean_audios\"]"
   ]
  },
  {
   "cell_type": "code",
   "execution_count": 7,
   "metadata": {},
   "outputs": [
    {
     "name": "stdout",
     "output_type": "stream",
     "text": [
      "<class 'tuple'> 26\n"
     ]
    }
   ],
   "source": [
    "pred_text, logprob, tokens_logits = asr.inference_with_grad(noise_audios)"
   ]
  },
  {
   "cell_type": "code",
   "execution_count": 21,
   "metadata": {},
   "outputs": [
    {
     "data": {
      "text/plain": [
       "(tensor([[-inf, -inf, -inf,  ..., -inf, -inf, -inf],\n",
       "         [-inf, -inf, -inf,  ..., -inf, -inf, -inf],\n",
       "         [-inf, -inf, -inf,  ..., -inf, -inf, -inf],\n",
       "         [-inf, -inf, -inf,  ..., -inf, -inf, -inf],\n",
       "         [-inf, -inf, -inf,  ..., -inf, -inf, -inf]], device='cuda:0'),\n",
       " tensor([[-inf, -inf, -inf,  ..., -inf, -inf, -inf],\n",
       "         [-inf, -inf, -inf,  ..., -inf, -inf, -inf],\n",
       "         [-inf, -inf, -inf,  ..., -inf, -inf, -inf],\n",
       "         [-inf, -inf, -inf,  ..., -inf, -inf, -inf],\n",
       "         [-inf, -inf, -inf,  ..., -inf, -inf, -inf]], device='cuda:0'),\n",
       " tensor([[-inf, -inf, -inf,  ..., -inf, -inf, -inf],\n",
       "         [-inf, -inf, -inf,  ..., -inf, -inf, -inf],\n",
       "         [-inf, -inf, -inf,  ..., -inf, -inf, -inf],\n",
       "         [-inf, -inf, -inf,  ..., -inf, -inf, -inf],\n",
       "         [-inf, -inf, -inf,  ..., -inf, -inf, -inf]], device='cuda:0'),\n",
       " tensor([[17.2266,    -inf,    -inf,  ..., 16.0942, 14.9564, 13.7809],\n",
       "         [19.7005,    -inf,    -inf,  ..., 19.7625, 19.9652, 17.8806],\n",
       "         [14.9067,    -inf,    -inf,  ..., 15.6169, 14.5721, 13.8108],\n",
       "         [15.5783,    -inf,    -inf,  ..., 17.7307, 17.6977, 16.1416],\n",
       "         [15.4167,    -inf,    -inf,  ..., 13.9549, 13.9918, 11.2944]],\n",
       "        device='cuda:0'),\n",
       " tensor([[ 9.7621,    -inf,    -inf,  ...,  9.5211,  8.2501,  8.2152],\n",
       "         [13.4936,    -inf,    -inf,  ..., 13.2405, 13.4023, 11.8399],\n",
       "         [ 5.5678,    -inf,    -inf,  ...,  6.3718,  6.2412,  4.2538],\n",
       "         [10.5422,    -inf,    -inf,  ..., 12.0246, 12.4707, 12.4519],\n",
       "         [ 4.0300,    -inf,    -inf,  ...,  4.0025,  4.2853,  3.8776]],\n",
       "        device='cuda:0'),\n",
       " tensor([[ 3.4005,    -inf,    -inf,  ...,  3.9579,  2.3275,  1.4037],\n",
       "         [18.5225,    -inf,    -inf,  ..., 17.7122, 16.4771, 15.5562],\n",
       "         [12.4845,    -inf,    -inf,  ..., 12.2188, 12.1075, 11.9360],\n",
       "         [17.2888,    -inf,    -inf,  ..., 17.0498, 16.8953, 19.3116],\n",
       "         [ 7.1904,    -inf,    -inf,  ...,  5.0126,  5.6366,  4.3695]],\n",
       "        device='cuda:0'),\n",
       " tensor([[10.1159,    -inf,    -inf,  ..., 11.6276, 11.6838, 11.2833],\n",
       "         [13.8538,    -inf,    -inf,  ..., 10.9275, 10.7261,  9.1680],\n",
       "         [ 8.6471,    -inf,    -inf,  ...,  8.6353,  8.6316,  9.9271],\n",
       "         [19.3912,    -inf,    -inf,  ..., 16.6617, 16.6161, 16.3558],\n",
       "         [36.6429,    -inf,    -inf,  ..., 25.8834, 25.6691, 23.1391]],\n",
       "        device='cuda:0'),\n",
       " tensor([[18.5577,    -inf,    -inf,  ..., 12.6763, 12.9073, 11.5511],\n",
       "         [ 1.7577,    -inf,    -inf,  ...,  1.3072,  1.9796,  0.7937],\n",
       "         [10.5633,    -inf,    -inf,  ...,  9.2819, 10.5440,  9.1298],\n",
       "         [19.1149,    -inf,    -inf,  ..., 16.1783, 16.7630, 15.3313],\n",
       "         [20.2714,    -inf,    -inf,  ..., 11.7399, 11.8907,  9.3498]],\n",
       "        device='cuda:0'),\n",
       " tensor([[10.2445,    -inf,    -inf,  ...,  7.7000,  7.7928,  7.7793],\n",
       "         [11.0437,    -inf,    -inf,  ..., 12.5348, 12.6729, 12.6380],\n",
       "         [11.9052,    -inf,    -inf,  ...,  7.9863,  8.0003,  4.6664],\n",
       "         [13.0595,    -inf,    -inf,  ..., 14.3909, 14.5982, 13.0965],\n",
       "         [19.3132,    -inf,    -inf,  ..., 12.1615, 12.0249,  9.5540]],\n",
       "        device='cuda:0'),\n",
       " tensor([[ 6.5220,    -inf,    -inf,  ...,  7.9621,  7.9928,  7.7143],\n",
       "         [33.0361,    -inf,    -inf,  ..., 27.2266, 26.7095, 26.2153],\n",
       "         [ 2.6160,    -inf,    -inf,  ...,  5.5790,  6.8387,  5.8301],\n",
       "         [14.2436,    -inf,    -inf,  ..., 14.4650, 14.6507, 13.0484],\n",
       "         [17.5603,    -inf,    -inf,  ..., 10.6349, 10.5170,  8.1239]],\n",
       "        device='cuda:0'),\n",
       " tensor([[12.6598,    -inf,    -inf,  ...,  7.8733,  7.6921,  5.7451],\n",
       "         [20.1761,    -inf,    -inf,  ..., 20.9360, 20.0321, 19.9953],\n",
       "         [12.7569,    -inf,    -inf,  ..., 12.4070, 13.0158, 10.6829],\n",
       "         [18.1182,    -inf,    -inf,  ..., 14.7926, 14.2157, 12.5396],\n",
       "         [16.8613,    -inf,    -inf,  ..., 10.1589, 10.0511,  7.6049]],\n",
       "        device='cuda:0'),\n",
       " tensor([[ 5.7865,    -inf,    -inf,  ...,  8.8928,  8.4706,  6.5334],\n",
       "         [15.7556,    -inf,    -inf,  ..., 16.1416, 15.2576, 15.1734],\n",
       "         [12.5627,    -inf,    -inf,  ..., 10.9466, 10.8296,  8.0488],\n",
       "         [13.3864,    -inf,    -inf,  ..., 15.0355, 14.7671, 13.1737],\n",
       "         [17.1115,    -inf,    -inf,  ..., 10.4140, 10.4551,  8.0507]],\n",
       "        device='cuda:0'),\n",
       " tensor([[11.4037,    -inf,    -inf,  ...,  9.9928,  9.8761,  8.2327],\n",
       "         [12.6186,    -inf,    -inf,  ..., 12.0801, 10.0248,  8.3258],\n",
       "         [42.9188,    -inf,    -inf,  ..., 32.9791, 32.6153, 29.9506],\n",
       "         [10.0616,    -inf,    -inf,  ..., 10.6749, 10.5449,  7.2691],\n",
       "         [17.0447,    -inf,    -inf,  ..., 10.7869, 10.7589,  8.2726]],\n",
       "        device='cuda:0'),\n",
       " tensor([[ 7.0789,    -inf,    -inf,  ...,  8.3965,  9.0473,  7.0198],\n",
       "         [14.1848,    -inf,    -inf,  ..., 14.9810, 14.6989, 15.0283],\n",
       "         [30.7746,    -inf,    -inf,  ..., 28.9272, 28.9542, 26.2794],\n",
       "         [12.6976,    -inf,    -inf,  ...,  9.4994,  8.6655,  5.3059],\n",
       "         [18.6580,    -inf,    -inf,  ..., 12.1438, 12.2619,  9.7663]],\n",
       "        device='cuda:0'),\n",
       " tensor([[ 6.4745,    -inf,    -inf,  ...,  6.8544,  7.3467,  7.3823],\n",
       "         [24.6974,    -inf,    -inf,  ..., 20.8186, 20.7682, 18.9896],\n",
       "         [ 6.4239,    -inf,    -inf,  ...,  2.0808,  1.6430, -0.6388],\n",
       "         [11.5479,    -inf,    -inf,  ..., 12.8948, 12.9398, 10.4099],\n",
       "         [18.7835,    -inf,    -inf,  ..., 12.2034, 12.3843,  9.9996]],\n",
       "        device='cuda:0'),\n",
       " tensor([[15.9688,    -inf,    -inf,  ..., 12.6446, 10.8769, 12.5427],\n",
       "         [22.8910,    -inf,    -inf,  ..., 22.9039, 22.8390, 21.1839],\n",
       "         [ 9.0426,    -inf,    -inf,  ...,  3.2233,  2.7365,  0.3362],\n",
       "         [17.4183,    -inf,    -inf,  ..., 15.9894, 15.9623, 13.2216],\n",
       "         [20.1969,    -inf,    -inf,  ..., 13.5329, 13.8139, 11.3668]],\n",
       "        device='cuda:0'),\n",
       " tensor([[ 9.5112,    -inf,    -inf,  ...,  9.8769,  8.8189, 10.8816],\n",
       "         [10.0618,    -inf,    -inf,  ..., 10.5890, 10.2161,  8.0244],\n",
       "         [20.2224,    -inf,    -inf,  ..., 14.4470, 13.9980, 11.5619],\n",
       "         [13.6597,    -inf,    -inf,  ..., 13.2116, 13.2876, 10.1628],\n",
       "         [20.7818,    -inf,    -inf,  ..., 14.3412, 14.6618, 12.1356]],\n",
       "        device='cuda:0'),\n",
       " tensor([[10.9299,    -inf,    -inf,  ...,  7.0721,  6.7641,  3.6247],\n",
       "         [14.6691,    -inf,    -inf,  ..., 11.8701, 10.2687, 10.9984],\n",
       "         [21.2882,    -inf,    -inf,  ..., 15.7744, 15.4523, 12.9788],\n",
       "         [15.1346,    -inf,    -inf,  ..., 12.1192, 10.9344,  8.7520],\n",
       "         [20.3998,    -inf,    -inf,  ..., 14.2661, 14.5165, 12.0293]],\n",
       "        device='cuda:0'),\n",
       " tensor([[ 9.9842,    -inf,    -inf,  ..., 10.5083,  8.9080,  7.4564],\n",
       "         [ 5.6935,    -inf,    -inf,  ..., 11.9814, 10.5433, 10.5806],\n",
       "         [18.3665,    -inf,    -inf,  ..., 12.7855, 12.5376, 10.1183],\n",
       "         [13.5580,    -inf,    -inf,  ..., 15.0166, 15.1574, 13.2113],\n",
       "         [19.5373,    -inf,    -inf,  ..., 13.2674, 13.4443, 11.2350]],\n",
       "        device='cuda:0'),\n",
       " tensor([[18.8181,    -inf,    -inf,  ..., 12.1947, 10.9876, 10.3941],\n",
       "         [13.9069,    -inf,    -inf,  ..., 14.8815, 13.6050, 15.1397],\n",
       "         [18.5902,    -inf,    -inf,  ..., 13.0227, 12.7476, 10.4695],\n",
       "         [13.3000,    -inf,    -inf,  ..., 14.0761, 13.5140, 11.8350],\n",
       "         [21.0119,    -inf,    -inf,  ..., 14.7271, 14.9441, 12.6381]],\n",
       "        device='cuda:0'),\n",
       " tensor([[27.9679,    -inf,    -inf,  ..., 26.4316, 26.3184, 23.6459],\n",
       "         [15.3987,    -inf,    -inf,  ..., 14.5283, 12.1212, 12.0578],\n",
       "         [19.9169,    -inf,    -inf,  ..., 14.4495, 14.2038, 11.8062],\n",
       "         [12.9792,    -inf,    -inf,  ..., 15.7533, 15.6224, 14.5928],\n",
       "         [20.1929,    -inf,    -inf,  ..., 14.2689, 14.4607, 12.1223]],\n",
       "        device='cuda:0'),\n",
       " tensor([[ 7.6185,    -inf,    -inf,  ...,  2.9328,  2.7664, -0.4525],\n",
       "         [10.8937,    -inf,    -inf,  ..., 12.9923, 12.0494, 11.6565],\n",
       "         [20.8078,    -inf,    -inf,  ..., 15.1822, 15.0189, 12.3470],\n",
       "         [13.8916,    -inf,    -inf,  ..., 11.4629, 10.9973,  9.3240],\n",
       "         [21.1457,    -inf,    -inf,  ..., 15.0952, 15.3170, 12.8213]],\n",
       "        device='cuda:0'),\n",
       " tensor([[11.5162,    -inf,    -inf,  ...,  5.9036,  5.7645,  2.7724],\n",
       "         [14.7453,    -inf,    -inf,  ..., 10.5023, 10.1764,  9.2626],\n",
       "         [20.9277,    -inf,    -inf,  ..., 15.2353, 15.1047, 12.4498],\n",
       "         [15.3474,    -inf,    -inf,  ..., 16.4474, 16.0297, 14.7333],\n",
       "         [21.2730,    -inf,    -inf,  ..., 15.2485, 15.4600, 12.9118]],\n",
       "        device='cuda:0'),\n",
       " tensor([[12.2648,    -inf,    -inf,  ...,  6.9075,  6.9214,  4.2089],\n",
       "         [ 3.9131,    -inf,    -inf,  ...,  6.7231,  8.5461,  7.4132],\n",
       "         [21.1314,    -inf,    -inf,  ..., 15.3758, 15.2323, 12.7167],\n",
       "         [19.3253,    -inf,    -inf,  ..., 13.1158, 12.4105,  9.4920],\n",
       "         [20.9401,    -inf,    -inf,  ..., 14.8950, 15.1314, 12.5972]],\n",
       "        device='cuda:0'),\n",
       " tensor([[15.6032,    -inf,    -inf,  ..., 10.2182, 10.2189,  7.6059],\n",
       "         [28.5554,    -inf,    -inf,  ..., 19.0171, 19.4496, 18.0251],\n",
       "         [22.2515,    -inf,    -inf,  ..., 16.3393, 16.2736, 13.5809],\n",
       "         [33.3341,    -inf,    -inf,  ..., 24.2131, 23.5778, 21.3164],\n",
       "         [21.9858,    -inf,    -inf,  ..., 15.8362, 16.0884, 13.4355]],\n",
       "        device='cuda:0'),\n",
       " tensor([[16.7814,    -inf,    -inf,  ..., 11.6821, 11.7832,  9.2151],\n",
       "         [30.4991,    -inf,    -inf,  ..., 27.6544, 27.7164, 25.2875],\n",
       "         [22.2697,    -inf,    -inf,  ..., 16.3286, 16.3022, 13.5517],\n",
       "         [27.8641,    -inf,    -inf,  ..., 26.0589, 26.2099, 23.3237],\n",
       "         [21.9771,    -inf,    -inf,  ..., 15.8916, 16.1350, 13.4687]],\n",
       "        device='cuda:0'))"
      ]
     },
     "execution_count": 21,
     "metadata": {},
     "output_type": "execute_result"
    }
   ],
   "source": [
    "tokens_logits"
   ]
  },
  {
   "cell_type": "code",
   "execution_count": 12,
   "metadata": {},
   "outputs": [],
   "source": [
    "import torch.nn.functional as F"
   ]
  },
  {
   "cell_type": "code",
   "execution_count": 22,
   "metadata": {},
   "outputs": [
    {
     "data": {
      "text/plain": [
       "[tensor([0., 0., 0., 0., 0.], device='cuda:0'),\n",
       " tensor([0., 0., 0., 0., 0.], device='cuda:0'),\n",
       " tensor([0., 0., 0., 0., 0.], device='cuda:0'),\n",
       " tensor([-0.9112, -0.3360, -0.4307, -2.1641, -0.4879], device='cuda:0'),\n",
       " tensor([-2.3919, -0.1774, -0.1726, -2.4362, -0.0757], device='cuda:0'),\n",
       " tensor([-0.3577, -0.0541, -0.1529, -2.0065, -1.6072], device='cuda:0'),\n",
       " tensor([-0.6705, -0.0729, -0.2467, -1.5490, -0.3822], device='cuda:0'),\n",
       " tensor([-0.9418, -0.0484, -0.9410, -2.9013, -0.2060], device='cuda:0'),\n",
       " tensor([-0.5747, -0.6119, -1.4961, -2.3895, -0.1561], device='cuda:0'),\n",
       " tensor([-0.0528, -0.1967, -0.0390, -2.7341, -0.2270], device='cuda:0'),\n",
       " tensor([-2.1978, -0.1184, -0.0229, -0.7190, -0.2803], device='cuda:0'),\n",
       " tensor([-0.6536, -0.1325, -0.0571, -0.1189, -0.3230], device='cuda:0'),\n",
       " tensor([-2.0452, -0.0748, -0.7127, -0.2296, -0.3340], device='cuda:0'),\n",
       " tensor([-2.8504, -0.0056, -0.0080, -2.3466, -0.3430], device='cuda:0'),\n",
       " tensor([-0.2168, -0.0522, -1.6113, -2.8708, -0.3934], device='cuda:0'),\n",
       " tensor([-1.7461, -0.0276, -0.7968, -2.4248, -0.3716], device='cuda:0'),\n",
       " tensor([-0.6894, -0.8937, -0.4550, -2.2767, -0.3651], device='cuda:0'),\n",
       " tensor([-1.4281, -1.3750, -0.3783, -1.3544, -0.3596], device='cuda:0'),\n",
       " tensor([-0.7509, -1.3438, -0.4615, -2.2365, -0.3520], device='cuda:0'),\n",
       " tensor([-1.4393, -1.0665, -0.4747, -3.0515, -0.3616], device='cuda:0'),\n",
       " tensor([-0.0120, -1.6172, -0.4615, -2.8308, -0.3717], device='cuda:0'),\n",
       " tensor([-1.2325, -0.0100, -0.4582, -0.1044, -0.3592], device='cuda:0'),\n",
       " tensor([-0.5897, -0.6653, -0.4469, -2.0501, -0.3701], device='cuda:0'),\n",
       " tensor([-0.5813, -1.6759, -0.4686, -0.0922, -0.3861], device='cuda:0'),\n",
       " tensor([-0.5654, -0.2975, -0.4496, -0.4496, -0.3642], device='cuda:0'),\n",
       " tensor([-0.5387, -0.0113, -0.4108, -0.0164, -0.3473], device='cuda:0')]"
      ]
     },
     "execution_count": 22,
     "metadata": {},
     "output_type": "execute_result"
    }
   ],
   "source": [
    "[F.softmax(logits, dim=1).max(dim=1)[0].log() for logits in tokens_logits]"
   ]
  },
  {
   "cell_type": "code",
   "execution_count": null,
   "metadata": {},
   "outputs": [],
   "source": []
  },
  {
   "cell_type": "code",
   "execution_count": null,
   "metadata": {},
   "outputs": [
    {
     "data": {
      "text/plain": [
       "(['сыжление этих предложений мы наслия прожимой в тексте',\n",
       "  'если не будет возражений я буду считать что вас отдали согласны с этим предложением',\n",
       "  'на лошадку из милый город',\n",
       "  'собрана на дно что сейчас то есть асяк то есть и вид с межей',\n",
       "  'контролеры'],\n",
       " tensor([-17.7686, -11.8741, -14.3873, -45.3782, -11.0609], device='cuda:0'))"
      ]
     },
     "execution_count": 7,
     "metadata": {},
     "output_type": "execute_result"
    }
   ],
   "source": [
    "pred_text, logprob"
   ]
  },
  {
   "cell_type": "code",
   "execution_count": null,
   "metadata": {},
   "outputs": [
    {
     "name": "stdout",
     "output_type": "stream",
     "text": [
      "<class 'tuple'> 30\n"
     ]
    }
   ],
   "source": [
    "loss, stats = asr.get_loss(noise_audios, clean_audios)"
   ]
  },
  {
   "cell_type": "code",
   "execution_count": null,
   "metadata": {},
   "outputs": [
    {
     "data": {
      "text/plain": [
       "(tensor(5.1438, device='cuda:0'),\n",
       " {'asr_loss': 5.143767356872559,\n",
       "  'reward': 0.3817346394062042,\n",
       "  'logprob': -18.020771026611328,\n",
       "  'wer (ref-denoisy)': 0.5952380952380952,\n",
       "  'cer (ref-denoisy)': 0.3203463203463203})"
      ]
     },
     "execution_count": 9,
     "metadata": {},
     "output_type": "execute_result"
    }
   ],
   "source": [
    "loss, stats"
   ]
  },
  {
   "cell_type": "code",
   "execution_count": null,
   "metadata": {},
   "outputs": [],
   "source": []
  }
 ],
 "metadata": {
  "kernelspec": {
   "display_name": "Python 3",
   "language": "python",
   "name": "python3"
  },
  "language_info": {
   "codemirror_mode": {
    "name": "ipython",
    "version": 3
   },
   "file_extension": ".py",
   "mimetype": "text/x-python",
   "name": "python",
   "nbconvert_exporter": "python",
   "pygments_lexer": "ipython3",
   "version": "3.10.12"
  },
  "orig_nbformat": 4
 },
 "nbformat": 4,
 "nbformat_minor": 2
}
